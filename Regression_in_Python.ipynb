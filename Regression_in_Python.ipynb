{
  "nbformat": 4,
  "nbformat_minor": 0,
  "metadata": {
    "colab": {
      "provenance": [],
      "collapsed_sections": []
    },
    "kernelspec": {
      "name": "python3",
      "display_name": "Python 3"
    },
    "language_info": {
      "name": "python"
    }
  },
  "cells": [
    {
      "cell_type": "markdown",
      "source": [
        "## Linear Regression using the Machine Learning Approach"
      ],
      "metadata": {
        "id": "noliYmSU9uSe"
      }
    },
    {
      "cell_type": "code",
      "source": [
        "#import required libraries \n",
        "\n",
        "import pandas as pd\n",
        "import numpy as np \n",
        "import seaborn as sns \n",
        "from matplotlib import pyplot as plt \n",
        "from pandas.core.common import random_state \n",
        "\n",
        "#Needed for explanatory regression model \n",
        "import statsmodels.api as sm\n",
        "import statsmodels.formula.api as smf\n",
        "\n"
      ],
      "metadata": {
        "id": "wq9pQFmK9w4O"
      },
      "execution_count": 1,
      "outputs": []
    },
    {
      "cell_type": "code",
      "source": [
        "#import necessities from sklearn needed for predictive regression model \n",
        "from sklearn.model_selection import train_test_split \n",
        "from sklearn.preprocessing import StandardScaler \n",
        "from sklearn.linear_model import Lasso, LassoCV, Ridge, RidgeCV\n",
        "from sklearn.linear_model import LinearRegression\n",
        "from sklearn.metrics import  mean_squared_error \n"
      ],
      "metadata": {
        "id": "pGIIy1_1-DVw"
      },
      "execution_count": 2,
      "outputs": []
    },
    {
      "cell_type": "code",
      "source": [
        "#import the dataset \n",
        "df = pd.read_csv('/content/MyCreditData (3).csv')"
      ],
      "metadata": {
        "id": "fjGPBYXy-mSO"
      },
      "execution_count": 3,
      "outputs": []
    },
    {
      "cell_type": "code",
      "source": [
        "#check data \n",
        "df.head()"
      ],
      "metadata": {
        "colab": {
          "base_uri": "https://localhost:8080/",
          "height": 299
        },
        "id": "QxyR6Few_rqG",
        "outputId": "0908182c-14c3-4685-fa2b-3f377b24016a"
      },
      "execution_count": 4,
      "outputs": [
        {
          "output_type": "execute_result",
          "data": {
            "text/plain": [
              "   checking_account  duration  credit_history  purpose  amount  \\\n",
              "0                 3        18               0        2    1049   \n",
              "1                 3         9               0        5    2799   \n",
              "2                 0        12               4        8     841   \n",
              "3                 3        12               0        5    2122   \n",
              "4                 3        12               0        5    2171   \n",
              "\n",
              "   savings_account  employment_duration  installment_rate  other_debtors  \\\n",
              "0                4                    2                 2              2   \n",
              "1                4                    0                 1              2   \n",
              "2                0                    1                 1              2   \n",
              "3                4                    0                 0              2   \n",
              "4                4                    0                 2              2   \n",
              "\n",
              "   present_residence  ...  age  other_installment_plans  housing  \\\n",
              "0                  3  ...   21                        1        0   \n",
              "1                  0  ...   36                        1        0   \n",
              "2                  3  ...   23                        1        0   \n",
              "3                  0  ...   39                        1        0   \n",
              "4                  3  ...   38                        0        2   \n",
              "\n",
              "   number_credits  job  people_liable  telephone  foreign_worker  gender  \\\n",
              "0               0    1              0          0               0  female   \n",
              "1               1    1              1          0               0    male   \n",
              "2               0    3              0          0               0  female   \n",
              "3               1    3              1          0               1    male   \n",
              "4               1    3              0          0               1    male   \n",
              "\n",
              "  profit  \n",
              "0    242  \n",
              "1    596  \n",
              "2     25  \n",
              "3    568  \n",
              "4    782  \n",
              "\n",
              "[5 rows x 21 columns]"
            ],
            "text/html": [
              "\n",
              "  <div id=\"df-b0b967a7-350d-4b45-a0da-db7c3c4eaccb\">\n",
              "    <div class=\"colab-df-container\">\n",
              "      <div>\n",
              "<style scoped>\n",
              "    .dataframe tbody tr th:only-of-type {\n",
              "        vertical-align: middle;\n",
              "    }\n",
              "\n",
              "    .dataframe tbody tr th {\n",
              "        vertical-align: top;\n",
              "    }\n",
              "\n",
              "    .dataframe thead th {\n",
              "        text-align: right;\n",
              "    }\n",
              "</style>\n",
              "<table border=\"1\" class=\"dataframe\">\n",
              "  <thead>\n",
              "    <tr style=\"text-align: right;\">\n",
              "      <th></th>\n",
              "      <th>checking_account</th>\n",
              "      <th>duration</th>\n",
              "      <th>credit_history</th>\n",
              "      <th>purpose</th>\n",
              "      <th>amount</th>\n",
              "      <th>savings_account</th>\n",
              "      <th>employment_duration</th>\n",
              "      <th>installment_rate</th>\n",
              "      <th>other_debtors</th>\n",
              "      <th>present_residence</th>\n",
              "      <th>...</th>\n",
              "      <th>age</th>\n",
              "      <th>other_installment_plans</th>\n",
              "      <th>housing</th>\n",
              "      <th>number_credits</th>\n",
              "      <th>job</th>\n",
              "      <th>people_liable</th>\n",
              "      <th>telephone</th>\n",
              "      <th>foreign_worker</th>\n",
              "      <th>gender</th>\n",
              "      <th>profit</th>\n",
              "    </tr>\n",
              "  </thead>\n",
              "  <tbody>\n",
              "    <tr>\n",
              "      <th>0</th>\n",
              "      <td>3</td>\n",
              "      <td>18</td>\n",
              "      <td>0</td>\n",
              "      <td>2</td>\n",
              "      <td>1049</td>\n",
              "      <td>4</td>\n",
              "      <td>2</td>\n",
              "      <td>2</td>\n",
              "      <td>2</td>\n",
              "      <td>3</td>\n",
              "      <td>...</td>\n",
              "      <td>21</td>\n",
              "      <td>1</td>\n",
              "      <td>0</td>\n",
              "      <td>0</td>\n",
              "      <td>1</td>\n",
              "      <td>0</td>\n",
              "      <td>0</td>\n",
              "      <td>0</td>\n",
              "      <td>female</td>\n",
              "      <td>242</td>\n",
              "    </tr>\n",
              "    <tr>\n",
              "      <th>1</th>\n",
              "      <td>3</td>\n",
              "      <td>9</td>\n",
              "      <td>0</td>\n",
              "      <td>5</td>\n",
              "      <td>2799</td>\n",
              "      <td>4</td>\n",
              "      <td>0</td>\n",
              "      <td>1</td>\n",
              "      <td>2</td>\n",
              "      <td>0</td>\n",
              "      <td>...</td>\n",
              "      <td>36</td>\n",
              "      <td>1</td>\n",
              "      <td>0</td>\n",
              "      <td>1</td>\n",
              "      <td>1</td>\n",
              "      <td>1</td>\n",
              "      <td>0</td>\n",
              "      <td>0</td>\n",
              "      <td>male</td>\n",
              "      <td>596</td>\n",
              "    </tr>\n",
              "    <tr>\n",
              "      <th>2</th>\n",
              "      <td>0</td>\n",
              "      <td>12</td>\n",
              "      <td>4</td>\n",
              "      <td>8</td>\n",
              "      <td>841</td>\n",
              "      <td>0</td>\n",
              "      <td>1</td>\n",
              "      <td>1</td>\n",
              "      <td>2</td>\n",
              "      <td>3</td>\n",
              "      <td>...</td>\n",
              "      <td>23</td>\n",
              "      <td>1</td>\n",
              "      <td>0</td>\n",
              "      <td>0</td>\n",
              "      <td>3</td>\n",
              "      <td>0</td>\n",
              "      <td>0</td>\n",
              "      <td>0</td>\n",
              "      <td>female</td>\n",
              "      <td>25</td>\n",
              "    </tr>\n",
              "    <tr>\n",
              "      <th>3</th>\n",
              "      <td>3</td>\n",
              "      <td>12</td>\n",
              "      <td>0</td>\n",
              "      <td>5</td>\n",
              "      <td>2122</td>\n",
              "      <td>4</td>\n",
              "      <td>0</td>\n",
              "      <td>0</td>\n",
              "      <td>2</td>\n",
              "      <td>0</td>\n",
              "      <td>...</td>\n",
              "      <td>39</td>\n",
              "      <td>1</td>\n",
              "      <td>0</td>\n",
              "      <td>1</td>\n",
              "      <td>3</td>\n",
              "      <td>1</td>\n",
              "      <td>0</td>\n",
              "      <td>1</td>\n",
              "      <td>male</td>\n",
              "      <td>568</td>\n",
              "    </tr>\n",
              "    <tr>\n",
              "      <th>4</th>\n",
              "      <td>3</td>\n",
              "      <td>12</td>\n",
              "      <td>0</td>\n",
              "      <td>5</td>\n",
              "      <td>2171</td>\n",
              "      <td>4</td>\n",
              "      <td>0</td>\n",
              "      <td>2</td>\n",
              "      <td>2</td>\n",
              "      <td>3</td>\n",
              "      <td>...</td>\n",
              "      <td>38</td>\n",
              "      <td>0</td>\n",
              "      <td>2</td>\n",
              "      <td>1</td>\n",
              "      <td>3</td>\n",
              "      <td>0</td>\n",
              "      <td>0</td>\n",
              "      <td>1</td>\n",
              "      <td>male</td>\n",
              "      <td>782</td>\n",
              "    </tr>\n",
              "  </tbody>\n",
              "</table>\n",
              "<p>5 rows × 21 columns</p>\n",
              "</div>\n",
              "      <button class=\"colab-df-convert\" onclick=\"convertToInteractive('df-b0b967a7-350d-4b45-a0da-db7c3c4eaccb')\"\n",
              "              title=\"Convert this dataframe to an interactive table.\"\n",
              "              style=\"display:none;\">\n",
              "        \n",
              "  <svg xmlns=\"http://www.w3.org/2000/svg\" height=\"24px\"viewBox=\"0 0 24 24\"\n",
              "       width=\"24px\">\n",
              "    <path d=\"M0 0h24v24H0V0z\" fill=\"none\"/>\n",
              "    <path d=\"M18.56 5.44l.94 2.06.94-2.06 2.06-.94-2.06-.94-.94-2.06-.94 2.06-2.06.94zm-11 1L8.5 8.5l.94-2.06 2.06-.94-2.06-.94L8.5 2.5l-.94 2.06-2.06.94zm10 10l.94 2.06.94-2.06 2.06-.94-2.06-.94-.94-2.06-.94 2.06-2.06.94z\"/><path d=\"M17.41 7.96l-1.37-1.37c-.4-.4-.92-.59-1.43-.59-.52 0-1.04.2-1.43.59L10.3 9.45l-7.72 7.72c-.78.78-.78 2.05 0 2.83L4 21.41c.39.39.9.59 1.41.59.51 0 1.02-.2 1.41-.59l7.78-7.78 2.81-2.81c.8-.78.8-2.07 0-2.86zM5.41 20L4 18.59l7.72-7.72 1.47 1.35L5.41 20z\"/>\n",
              "  </svg>\n",
              "      </button>\n",
              "      \n",
              "  <style>\n",
              "    .colab-df-container {\n",
              "      display:flex;\n",
              "      flex-wrap:wrap;\n",
              "      gap: 12px;\n",
              "    }\n",
              "\n",
              "    .colab-df-convert {\n",
              "      background-color: #E8F0FE;\n",
              "      border: none;\n",
              "      border-radius: 50%;\n",
              "      cursor: pointer;\n",
              "      display: none;\n",
              "      fill: #1967D2;\n",
              "      height: 32px;\n",
              "      padding: 0 0 0 0;\n",
              "      width: 32px;\n",
              "    }\n",
              "\n",
              "    .colab-df-convert:hover {\n",
              "      background-color: #E2EBFA;\n",
              "      box-shadow: 0px 1px 2px rgba(60, 64, 67, 0.3), 0px 1px 3px 1px rgba(60, 64, 67, 0.15);\n",
              "      fill: #174EA6;\n",
              "    }\n",
              "\n",
              "    [theme=dark] .colab-df-convert {\n",
              "      background-color: #3B4455;\n",
              "      fill: #D2E3FC;\n",
              "    }\n",
              "\n",
              "    [theme=dark] .colab-df-convert:hover {\n",
              "      background-color: #434B5C;\n",
              "      box-shadow: 0px 1px 3px 1px rgba(0, 0, 0, 0.15);\n",
              "      filter: drop-shadow(0px 1px 2px rgba(0, 0, 0, 0.3));\n",
              "      fill: #FFFFFF;\n",
              "    }\n",
              "  </style>\n",
              "\n",
              "      <script>\n",
              "        const buttonEl =\n",
              "          document.querySelector('#df-b0b967a7-350d-4b45-a0da-db7c3c4eaccb button.colab-df-convert');\n",
              "        buttonEl.style.display =\n",
              "          google.colab.kernel.accessAllowed ? 'block' : 'none';\n",
              "\n",
              "        async function convertToInteractive(key) {\n",
              "          const element = document.querySelector('#df-b0b967a7-350d-4b45-a0da-db7c3c4eaccb');\n",
              "          const dataTable =\n",
              "            await google.colab.kernel.invokeFunction('convertToInteractive',\n",
              "                                                     [key], {});\n",
              "          if (!dataTable) return;\n",
              "\n",
              "          const docLinkHtml = 'Like what you see? Visit the ' +\n",
              "            '<a target=\"_blank\" href=https://colab.research.google.com/notebooks/data_table.ipynb>data table notebook</a>'\n",
              "            + ' to learn more about interactive tables.';\n",
              "          element.innerHTML = '';\n",
              "          dataTable['output_type'] = 'display_data';\n",
              "          await google.colab.output.renderOutput(dataTable, element);\n",
              "          const docLink = document.createElement('div');\n",
              "          docLink.innerHTML = docLinkHtml;\n",
              "          element.appendChild(docLink);\n",
              "        }\n",
              "      </script>\n",
              "    </div>\n",
              "  </div>\n",
              "  "
            ]
          },
          "metadata": {},
          "execution_count": 4
        }
      ]
    },
    {
      "cell_type": "code",
      "source": [
        "#dimensions \n",
        "df.shape"
      ],
      "metadata": {
        "colab": {
          "base_uri": "https://localhost:8080/"
        },
        "id": "Yja7rgEjjYRp",
        "outputId": "d8e24360-5eef-4a58-82df-5e360cc026df"
      },
      "execution_count": 5,
      "outputs": [
        {
          "output_type": "execute_result",
          "data": {
            "text/plain": [
              "(1000, 21)"
            ]
          },
          "metadata": {},
          "execution_count": 5
        }
      ]
    },
    {
      "cell_type": "code",
      "source": [
        "#descriptive stats\n",
        "df.describe() "
      ],
      "metadata": {
        "colab": {
          "base_uri": "https://localhost:8080/",
          "height": 364
        },
        "id": "fsPph3l5_v7G",
        "outputId": "a90c4620-b808-4b9e-ff1b-ca8ce8a6faa1"
      },
      "execution_count": 6,
      "outputs": [
        {
          "output_type": "execute_result",
          "data": {
            "text/plain": [
              "       checking_account     duration  credit_history      purpose  \\\n",
              "count       1000.000000  1000.000000     1000.000000  1000.000000   \n",
              "mean           1.342000    20.903000        2.513000     4.100000   \n",
              "std            1.145578    12.058814        1.780169     2.090064   \n",
              "min            0.000000     4.000000        0.000000     0.000000   \n",
              "25%            0.000000    12.000000        0.000000     2.000000   \n",
              "50%            1.000000    18.000000        4.000000     4.000000   \n",
              "75%            3.000000    24.000000        4.000000     5.000000   \n",
              "max            3.000000    72.000000        4.000000     9.000000   \n",
              "\n",
              "            amount  savings_account  employment_duration  installment_rate  \\\n",
              "count   1000.00000      1000.000000          1000.000000       1000.000000   \n",
              "mean    3271.24800         2.865000             1.525000          1.591000   \n",
              "std     2822.75176         1.519567             1.344315          0.910246   \n",
              "min      250.00000         0.000000             0.000000          0.000000   \n",
              "25%     1365.50000         1.000000             0.000000          1.000000   \n",
              "50%     2319.50000         4.000000             1.000000          2.000000   \n",
              "75%     3972.25000         4.000000             3.000000          2.000000   \n",
              "max    18424.00000         4.000000             4.000000          3.000000   \n",
              "\n",
              "       other_debtors  present_residence     property         age  \\\n",
              "count    1000.000000        1000.000000  1000.000000  1000.00000   \n",
              "mean        1.866000           1.648000     1.386000    35.54200   \n",
              "std         0.445244           1.292969     1.210979    11.35267   \n",
              "min         0.000000           0.000000     0.000000    19.00000   \n",
              "25%         2.000000           0.000000     0.000000    27.00000   \n",
              "50%         2.000000           2.000000     1.000000    33.00000   \n",
              "75%         2.000000           3.000000     3.000000    42.00000   \n",
              "max         2.000000           3.000000     3.000000    75.00000   \n",
              "\n",
              "       other_installment_plans      housing  number_credits          job  \\\n",
              "count              1000.000000  1000.000000     1000.000000  1000.000000   \n",
              "mean                  0.908000     1.535000        0.407000     1.274000   \n",
              "std                   0.421561     0.779347        0.577654     0.946478   \n",
              "min                   0.000000     0.000000        0.000000     0.000000   \n",
              "25%                   1.000000     1.000000        0.000000     1.000000   \n",
              "50%                   1.000000     2.000000        0.000000     1.000000   \n",
              "75%                   1.000000     2.000000        1.000000     1.000000   \n",
              "max                   2.000000     2.000000        3.000000     3.000000   \n",
              "\n",
              "       people_liable    telephone  foreign_worker       profit  \n",
              "count    1000.000000  1000.000000     1000.000000  1000.000000  \n",
              "mean        0.155000     0.404000        0.037000   -18.844000  \n",
              "std         0.362086     0.490943        0.188856  1215.455773  \n",
              "min         0.000000     0.000000        0.000000 -8130.000000  \n",
              "25%         0.000000     0.000000        0.000000  -184.750000  \n",
              "50%         0.000000     0.000000        0.000000   206.000000  \n",
              "75%         0.000000     1.000000        0.000000   472.500000  \n",
              "max         1.000000     1.000000        1.000000  4826.000000  "
            ],
            "text/html": [
              "\n",
              "  <div id=\"df-defcd6c6-a3da-4403-84ba-83a733227e3a\">\n",
              "    <div class=\"colab-df-container\">\n",
              "      <div>\n",
              "<style scoped>\n",
              "    .dataframe tbody tr th:only-of-type {\n",
              "        vertical-align: middle;\n",
              "    }\n",
              "\n",
              "    .dataframe tbody tr th {\n",
              "        vertical-align: top;\n",
              "    }\n",
              "\n",
              "    .dataframe thead th {\n",
              "        text-align: right;\n",
              "    }\n",
              "</style>\n",
              "<table border=\"1\" class=\"dataframe\">\n",
              "  <thead>\n",
              "    <tr style=\"text-align: right;\">\n",
              "      <th></th>\n",
              "      <th>checking_account</th>\n",
              "      <th>duration</th>\n",
              "      <th>credit_history</th>\n",
              "      <th>purpose</th>\n",
              "      <th>amount</th>\n",
              "      <th>savings_account</th>\n",
              "      <th>employment_duration</th>\n",
              "      <th>installment_rate</th>\n",
              "      <th>other_debtors</th>\n",
              "      <th>present_residence</th>\n",
              "      <th>property</th>\n",
              "      <th>age</th>\n",
              "      <th>other_installment_plans</th>\n",
              "      <th>housing</th>\n",
              "      <th>number_credits</th>\n",
              "      <th>job</th>\n",
              "      <th>people_liable</th>\n",
              "      <th>telephone</th>\n",
              "      <th>foreign_worker</th>\n",
              "      <th>profit</th>\n",
              "    </tr>\n",
              "  </thead>\n",
              "  <tbody>\n",
              "    <tr>\n",
              "      <th>count</th>\n",
              "      <td>1000.000000</td>\n",
              "      <td>1000.000000</td>\n",
              "      <td>1000.000000</td>\n",
              "      <td>1000.000000</td>\n",
              "      <td>1000.00000</td>\n",
              "      <td>1000.000000</td>\n",
              "      <td>1000.000000</td>\n",
              "      <td>1000.000000</td>\n",
              "      <td>1000.000000</td>\n",
              "      <td>1000.000000</td>\n",
              "      <td>1000.000000</td>\n",
              "      <td>1000.00000</td>\n",
              "      <td>1000.000000</td>\n",
              "      <td>1000.000000</td>\n",
              "      <td>1000.000000</td>\n",
              "      <td>1000.000000</td>\n",
              "      <td>1000.000000</td>\n",
              "      <td>1000.000000</td>\n",
              "      <td>1000.000000</td>\n",
              "      <td>1000.000000</td>\n",
              "    </tr>\n",
              "    <tr>\n",
              "      <th>mean</th>\n",
              "      <td>1.342000</td>\n",
              "      <td>20.903000</td>\n",
              "      <td>2.513000</td>\n",
              "      <td>4.100000</td>\n",
              "      <td>3271.24800</td>\n",
              "      <td>2.865000</td>\n",
              "      <td>1.525000</td>\n",
              "      <td>1.591000</td>\n",
              "      <td>1.866000</td>\n",
              "      <td>1.648000</td>\n",
              "      <td>1.386000</td>\n",
              "      <td>35.54200</td>\n",
              "      <td>0.908000</td>\n",
              "      <td>1.535000</td>\n",
              "      <td>0.407000</td>\n",
              "      <td>1.274000</td>\n",
              "      <td>0.155000</td>\n",
              "      <td>0.404000</td>\n",
              "      <td>0.037000</td>\n",
              "      <td>-18.844000</td>\n",
              "    </tr>\n",
              "    <tr>\n",
              "      <th>std</th>\n",
              "      <td>1.145578</td>\n",
              "      <td>12.058814</td>\n",
              "      <td>1.780169</td>\n",
              "      <td>2.090064</td>\n",
              "      <td>2822.75176</td>\n",
              "      <td>1.519567</td>\n",
              "      <td>1.344315</td>\n",
              "      <td>0.910246</td>\n",
              "      <td>0.445244</td>\n",
              "      <td>1.292969</td>\n",
              "      <td>1.210979</td>\n",
              "      <td>11.35267</td>\n",
              "      <td>0.421561</td>\n",
              "      <td>0.779347</td>\n",
              "      <td>0.577654</td>\n",
              "      <td>0.946478</td>\n",
              "      <td>0.362086</td>\n",
              "      <td>0.490943</td>\n",
              "      <td>0.188856</td>\n",
              "      <td>1215.455773</td>\n",
              "    </tr>\n",
              "    <tr>\n",
              "      <th>min</th>\n",
              "      <td>0.000000</td>\n",
              "      <td>4.000000</td>\n",
              "      <td>0.000000</td>\n",
              "      <td>0.000000</td>\n",
              "      <td>250.00000</td>\n",
              "      <td>0.000000</td>\n",
              "      <td>0.000000</td>\n",
              "      <td>0.000000</td>\n",
              "      <td>0.000000</td>\n",
              "      <td>0.000000</td>\n",
              "      <td>0.000000</td>\n",
              "      <td>19.00000</td>\n",
              "      <td>0.000000</td>\n",
              "      <td>0.000000</td>\n",
              "      <td>0.000000</td>\n",
              "      <td>0.000000</td>\n",
              "      <td>0.000000</td>\n",
              "      <td>0.000000</td>\n",
              "      <td>0.000000</td>\n",
              "      <td>-8130.000000</td>\n",
              "    </tr>\n",
              "    <tr>\n",
              "      <th>25%</th>\n",
              "      <td>0.000000</td>\n",
              "      <td>12.000000</td>\n",
              "      <td>0.000000</td>\n",
              "      <td>2.000000</td>\n",
              "      <td>1365.50000</td>\n",
              "      <td>1.000000</td>\n",
              "      <td>0.000000</td>\n",
              "      <td>1.000000</td>\n",
              "      <td>2.000000</td>\n",
              "      <td>0.000000</td>\n",
              "      <td>0.000000</td>\n",
              "      <td>27.00000</td>\n",
              "      <td>1.000000</td>\n",
              "      <td>1.000000</td>\n",
              "      <td>0.000000</td>\n",
              "      <td>1.000000</td>\n",
              "      <td>0.000000</td>\n",
              "      <td>0.000000</td>\n",
              "      <td>0.000000</td>\n",
              "      <td>-184.750000</td>\n",
              "    </tr>\n",
              "    <tr>\n",
              "      <th>50%</th>\n",
              "      <td>1.000000</td>\n",
              "      <td>18.000000</td>\n",
              "      <td>4.000000</td>\n",
              "      <td>4.000000</td>\n",
              "      <td>2319.50000</td>\n",
              "      <td>4.000000</td>\n",
              "      <td>1.000000</td>\n",
              "      <td>2.000000</td>\n",
              "      <td>2.000000</td>\n",
              "      <td>2.000000</td>\n",
              "      <td>1.000000</td>\n",
              "      <td>33.00000</td>\n",
              "      <td>1.000000</td>\n",
              "      <td>2.000000</td>\n",
              "      <td>0.000000</td>\n",
              "      <td>1.000000</td>\n",
              "      <td>0.000000</td>\n",
              "      <td>0.000000</td>\n",
              "      <td>0.000000</td>\n",
              "      <td>206.000000</td>\n",
              "    </tr>\n",
              "    <tr>\n",
              "      <th>75%</th>\n",
              "      <td>3.000000</td>\n",
              "      <td>24.000000</td>\n",
              "      <td>4.000000</td>\n",
              "      <td>5.000000</td>\n",
              "      <td>3972.25000</td>\n",
              "      <td>4.000000</td>\n",
              "      <td>3.000000</td>\n",
              "      <td>2.000000</td>\n",
              "      <td>2.000000</td>\n",
              "      <td>3.000000</td>\n",
              "      <td>3.000000</td>\n",
              "      <td>42.00000</td>\n",
              "      <td>1.000000</td>\n",
              "      <td>2.000000</td>\n",
              "      <td>1.000000</td>\n",
              "      <td>1.000000</td>\n",
              "      <td>0.000000</td>\n",
              "      <td>1.000000</td>\n",
              "      <td>0.000000</td>\n",
              "      <td>472.500000</td>\n",
              "    </tr>\n",
              "    <tr>\n",
              "      <th>max</th>\n",
              "      <td>3.000000</td>\n",
              "      <td>72.000000</td>\n",
              "      <td>4.000000</td>\n",
              "      <td>9.000000</td>\n",
              "      <td>18424.00000</td>\n",
              "      <td>4.000000</td>\n",
              "      <td>4.000000</td>\n",
              "      <td>3.000000</td>\n",
              "      <td>2.000000</td>\n",
              "      <td>3.000000</td>\n",
              "      <td>3.000000</td>\n",
              "      <td>75.00000</td>\n",
              "      <td>2.000000</td>\n",
              "      <td>2.000000</td>\n",
              "      <td>3.000000</td>\n",
              "      <td>3.000000</td>\n",
              "      <td>1.000000</td>\n",
              "      <td>1.000000</td>\n",
              "      <td>1.000000</td>\n",
              "      <td>4826.000000</td>\n",
              "    </tr>\n",
              "  </tbody>\n",
              "</table>\n",
              "</div>\n",
              "      <button class=\"colab-df-convert\" onclick=\"convertToInteractive('df-defcd6c6-a3da-4403-84ba-83a733227e3a')\"\n",
              "              title=\"Convert this dataframe to an interactive table.\"\n",
              "              style=\"display:none;\">\n",
              "        \n",
              "  <svg xmlns=\"http://www.w3.org/2000/svg\" height=\"24px\"viewBox=\"0 0 24 24\"\n",
              "       width=\"24px\">\n",
              "    <path d=\"M0 0h24v24H0V0z\" fill=\"none\"/>\n",
              "    <path d=\"M18.56 5.44l.94 2.06.94-2.06 2.06-.94-2.06-.94-.94-2.06-.94 2.06-2.06.94zm-11 1L8.5 8.5l.94-2.06 2.06-.94-2.06-.94L8.5 2.5l-.94 2.06-2.06.94zm10 10l.94 2.06.94-2.06 2.06-.94-2.06-.94-.94-2.06-.94 2.06-2.06.94z\"/><path d=\"M17.41 7.96l-1.37-1.37c-.4-.4-.92-.59-1.43-.59-.52 0-1.04.2-1.43.59L10.3 9.45l-7.72 7.72c-.78.78-.78 2.05 0 2.83L4 21.41c.39.39.9.59 1.41.59.51 0 1.02-.2 1.41-.59l7.78-7.78 2.81-2.81c.8-.78.8-2.07 0-2.86zM5.41 20L4 18.59l7.72-7.72 1.47 1.35L5.41 20z\"/>\n",
              "  </svg>\n",
              "      </button>\n",
              "      \n",
              "  <style>\n",
              "    .colab-df-container {\n",
              "      display:flex;\n",
              "      flex-wrap:wrap;\n",
              "      gap: 12px;\n",
              "    }\n",
              "\n",
              "    .colab-df-convert {\n",
              "      background-color: #E8F0FE;\n",
              "      border: none;\n",
              "      border-radius: 50%;\n",
              "      cursor: pointer;\n",
              "      display: none;\n",
              "      fill: #1967D2;\n",
              "      height: 32px;\n",
              "      padding: 0 0 0 0;\n",
              "      width: 32px;\n",
              "    }\n",
              "\n",
              "    .colab-df-convert:hover {\n",
              "      background-color: #E2EBFA;\n",
              "      box-shadow: 0px 1px 2px rgba(60, 64, 67, 0.3), 0px 1px 3px 1px rgba(60, 64, 67, 0.15);\n",
              "      fill: #174EA6;\n",
              "    }\n",
              "\n",
              "    [theme=dark] .colab-df-convert {\n",
              "      background-color: #3B4455;\n",
              "      fill: #D2E3FC;\n",
              "    }\n",
              "\n",
              "    [theme=dark] .colab-df-convert:hover {\n",
              "      background-color: #434B5C;\n",
              "      box-shadow: 0px 1px 3px 1px rgba(0, 0, 0, 0.15);\n",
              "      filter: drop-shadow(0px 1px 2px rgba(0, 0, 0, 0.3));\n",
              "      fill: #FFFFFF;\n",
              "    }\n",
              "  </style>\n",
              "\n",
              "      <script>\n",
              "        const buttonEl =\n",
              "          document.querySelector('#df-defcd6c6-a3da-4403-84ba-83a733227e3a button.colab-df-convert');\n",
              "        buttonEl.style.display =\n",
              "          google.colab.kernel.accessAllowed ? 'block' : 'none';\n",
              "\n",
              "        async function convertToInteractive(key) {\n",
              "          const element = document.querySelector('#df-defcd6c6-a3da-4403-84ba-83a733227e3a');\n",
              "          const dataTable =\n",
              "            await google.colab.kernel.invokeFunction('convertToInteractive',\n",
              "                                                     [key], {});\n",
              "          if (!dataTable) return;\n",
              "\n",
              "          const docLinkHtml = 'Like what you see? Visit the ' +\n",
              "            '<a target=\"_blank\" href=https://colab.research.google.com/notebooks/data_table.ipynb>data table notebook</a>'\n",
              "            + ' to learn more about interactive tables.';\n",
              "          element.innerHTML = '';\n",
              "          dataTable['output_type'] = 'display_data';\n",
              "          await google.colab.output.renderOutput(dataTable, element);\n",
              "          const docLink = document.createElement('div');\n",
              "          docLink.innerHTML = docLinkHtml;\n",
              "          element.appendChild(docLink);\n",
              "        }\n",
              "      </script>\n",
              "    </div>\n",
              "  </div>\n",
              "  "
            ]
          },
          "metadata": {},
          "execution_count": 6
        }
      ]
    },
    {
      "cell_type": "code",
      "source": [
        "#check variable type\n",
        "df.info()"
      ],
      "metadata": {
        "colab": {
          "base_uri": "https://localhost:8080/"
        },
        "id": "5hqFqxjsARl2",
        "outputId": "a245af53-b366-4e60-9052-acc2fdde070b"
      },
      "execution_count": 7,
      "outputs": [
        {
          "output_type": "stream",
          "name": "stdout",
          "text": [
            "<class 'pandas.core.frame.DataFrame'>\n",
            "RangeIndex: 1000 entries, 0 to 999\n",
            "Data columns (total 21 columns):\n",
            " #   Column                   Non-Null Count  Dtype \n",
            "---  ------                   --------------  ----- \n",
            " 0   checking_account         1000 non-null   int64 \n",
            " 1   duration                 1000 non-null   int64 \n",
            " 2   credit_history           1000 non-null   int64 \n",
            " 3   purpose                  1000 non-null   int64 \n",
            " 4   amount                   1000 non-null   int64 \n",
            " 5   savings_account          1000 non-null   int64 \n",
            " 6   employment_duration      1000 non-null   int64 \n",
            " 7   installment_rate         1000 non-null   int64 \n",
            " 8   other_debtors            1000 non-null   int64 \n",
            " 9   present_residence        1000 non-null   int64 \n",
            " 10  property                 1000 non-null   int64 \n",
            " 11  age                      1000 non-null   int64 \n",
            " 12  other_installment_plans  1000 non-null   int64 \n",
            " 13  housing                  1000 non-null   int64 \n",
            " 14  number_credits           1000 non-null   int64 \n",
            " 15  job                      1000 non-null   int64 \n",
            " 16  people_liable            1000 non-null   int64 \n",
            " 17  telephone                1000 non-null   int64 \n",
            " 18  foreign_worker           1000 non-null   int64 \n",
            " 19  gender                   1000 non-null   object\n",
            " 20  profit                   1000 non-null   int64 \n",
            "dtypes: int64(20), object(1)\n",
            "memory usage: 164.2+ KB\n"
          ]
        }
      ]
    },
    {
      "cell_type": "code",
      "source": [
        "#check for null values\n",
        "\n",
        "plt.figure(figsize=(10,5))\n",
        "p = sns.heatmap(df.isnull(), cbar=False, cmap=\"YlGnBu\")\n",
        "p.set_title(\"Heat Map of Nulls\")\n",
        "\n",
        "\n",
        "\n"
      ],
      "metadata": {
        "colab": {
          "base_uri": "https://localhost:8080/",
          "height": 462
        },
        "id": "AKNHhtfiGC6c",
        "outputId": "efe88505-e4a8-43c0-900b-f403b414bb58"
      },
      "execution_count": 8,
      "outputs": [
        {
          "output_type": "execute_result",
          "data": {
            "text/plain": [
              "Text(0.5, 1.0, 'Heat Map of Nulls')"
            ]
          },
          "metadata": {},
          "execution_count": 8
        },
        {
          "output_type": "display_data",
          "data": {
            "text/plain": [
              "<Figure size 720x360 with 1 Axes>"
            ],
            "image/png": "[encoded data removed]"
          },
          "metadata": {
            "needs_background": "light"
          }
        }
      ]
    },
    {
      "cell_type": "code",
      "source": [
        "#count nulls for each column \n",
        "df.isnull().sum() "
      ],
      "metadata": {
        "colab": {
          "base_uri": "https://localhost:8080/"
        },
        "id": "WeMbAjs3n670",
        "outputId": "558293ce-37e0-4707-c739-b8fdb28d2108"
      },
      "execution_count": 9,
      "outputs": [
        {
          "output_type": "execute_result",
          "data": {
            "text/plain": [
              "checking_account           0\n",
              "duration                   0\n",
              "credit_history             0\n",
              "purpose                    0\n",
              "amount                     0\n",
              "savings_account            0\n",
              "employment_duration        0\n",
              "installment_rate           0\n",
              "other_debtors              0\n",
              "present_residence          0\n",
              "property                   0\n",
              "age                        0\n",
              "other_installment_plans    0\n",
              "housing                    0\n",
              "number_credits             0\n",
              "job                        0\n",
              "people_liable              0\n",
              "telephone                  0\n",
              "foreign_worker             0\n",
              "gender                     0\n",
              "profit                     0\n",
              "dtype: int64"
            ]
          },
          "metadata": {},
          "execution_count": 9
        }
      ]
    },
    {
      "cell_type": "markdown",
      "source": [
        "#Take a look at the data"
      ],
      "metadata": {
        "id": "oCvuepyuf_c_"
      }
    },
    {
      "cell_type": "code",
      "source": [
        "#Visualize example "
      ],
      "metadata": {
        "id": "UFHjVf_CpOL8"
      },
      "execution_count": 10,
      "outputs": []
    },
    {
      "cell_type": "code",
      "source": [
        "#create histogram \n",
        "sns.histplot(x=\"duration\", data=df)"
      ],
      "metadata": {
        "colab": {
          "base_uri": "https://localhost:8080/",
          "height": 296
        },
        "id": "KmvkBhObVcfO",
        "outputId": "9bf1a576-4386-4802-83c2-df63d733284a"
      },
      "execution_count": 11,
      "outputs": [
        {
          "output_type": "execute_result",
          "data": {
            "text/plain": [
              "<matplotlib.axes._subplots.AxesSubplot at 0x7f8375c64b90>"
            ]
          },
          "metadata": {},
          "execution_count": 11
        },
        {
          "output_type": "display_data",
          "data": {
            "text/plain": [
              "<Figure size 432x288 with 1 Axes>"
            ],
            "image/png": "[encoded data removed]"
          },
          "metadata": {
            "needs_background": "light"
          }
        }
      ]
    },
    {
      "cell_type": "markdown",
      "source": [],
      "metadata": {
        "id": "TcwCXXPKXqko"
      }
    },
    {
      "cell_type": "code",
      "source": [
        "#create boxplot \n",
        "sns.boxplot(x=\"duration\", data=df)"
      ],
      "metadata": {
        "colab": {
          "base_uri": "https://localhost:8080/",
          "height": 296
        },
        "id": "AAzICFdRlr1g",
        "outputId": "670f728f-09df-411d-d006-81634f235c15"
      },
      "execution_count": 12,
      "outputs": [
        {
          "output_type": "execute_result",
          "data": {
            "text/plain": [
              "<matplotlib.axes._subplots.AxesSubplot at 0x7f83756e7590>"
            ]
          },
          "metadata": {},
          "execution_count": 12
        },
        {
          "output_type": "display_data",
          "data": {
            "text/plain": [
              "<Figure size 432x288 with 1 Axes>"
            ],
            "image/png": "[encoded data removed]"
          },
          "metadata": {
            "needs_background": "light"
          }
        }
      ]
    },
    {
      "cell_type": "code",
      "source": [
        "#scatter plot \n",
        "sns.scatterplot(x=\"age\", y=\"profit\", data=df)"
      ],
      "metadata": {
        "colab": {
          "base_uri": "https://localhost:8080/",
          "height": 296
        },
        "id": "9IrW9l6xb_f3",
        "outputId": "7c5dcdf0-e966-4435-b074-7d53e3bded50"
      },
      "execution_count": 13,
      "outputs": [
        {
          "output_type": "execute_result",
          "data": {
            "text/plain": [
              "<matplotlib.axes._subplots.AxesSubplot at 0x7f8375671850>"
            ]
          },
          "metadata": {},
          "execution_count": 13
        },
        {
          "output_type": "display_data",
          "data": {
            "text/plain": [
              "<Figure size 432x288 with 1 Axes>"
            ],
            "image/png": "[encoded data removed]"
          },
          "metadata": {
            "needs_background": "light"
          }
        }
      ]
    },
    {
      "cell_type": "code",
      "source": [
        "##Ensure categorical variables are not continuous \n",
        "not_categories = ['duration', 'amount', 'age', 'profit']\n",
        "for column in df.columns: \n",
        "  if column not in not_categories:\n",
        "    df[column] = pd.Categorical(df[column])"
      ],
      "metadata": {
        "id": "r0ANQBpGmNTv"
      },
      "execution_count": 14,
      "outputs": []
    },
    {
      "cell_type": "code",
      "source": [
        "df.info()"
      ],
      "metadata": {
        "colab": {
          "base_uri": "https://localhost:8080/"
        },
        "id": "EURsxMv6m1rk",
        "outputId": "ea03f2d8-4bad-4600-9bbc-8846cc7da3d9"
      },
      "execution_count": 15,
      "outputs": [
        {
          "output_type": "stream",
          "name": "stdout",
          "text": [
            "<class 'pandas.core.frame.DataFrame'>\n",
            "RangeIndex: 1000 entries, 0 to 999\n",
            "Data columns (total 21 columns):\n",
            " #   Column                   Non-Null Count  Dtype   \n",
            "---  ------                   --------------  -----   \n",
            " 0   checking_account         1000 non-null   category\n",
            " 1   duration                 1000 non-null   int64   \n",
            " 2   credit_history           1000 non-null   category\n",
            " 3   purpose                  1000 non-null   category\n",
            " 4   amount                   1000 non-null   int64   \n",
            " 5   savings_account          1000 non-null   category\n",
            " 6   employment_duration      1000 non-null   category\n",
            " 7   installment_rate         1000 non-null   category\n",
            " 8   other_debtors            1000 non-null   category\n",
            " 9   present_residence        1000 non-null   category\n",
            " 10  property                 1000 non-null   category\n",
            " 11  age                      1000 non-null   int64   \n",
            " 12  other_installment_plans  1000 non-null   category\n",
            " 13  housing                  1000 non-null   category\n",
            " 14  number_credits           1000 non-null   category\n",
            " 15  job                      1000 non-null   category\n",
            " 16  people_liable            1000 non-null   category\n",
            " 17  telephone                1000 non-null   category\n",
            " 18  foreign_worker           1000 non-null   category\n",
            " 19  gender                   1000 non-null   category\n",
            " 20  profit                   1000 non-null   int64   \n",
            "dtypes: category(17), int64(4)\n",
            "memory usage: 51.0 KB\n"
          ]
        }
      ]
    },
    {
      "cell_type": "markdown",
      "source": [],
      "metadata": {
        "id": "2dvAsUonX3KV"
      }
    },
    {
      "cell_type": "markdown",
      "source": [
        "##Train and Test Set \n"
      ],
      "metadata": {
        "id": "WJzaRm4PNv1Q"
      }
    },
    {
      "cell_type": "code",
      "source": [
        "\n",
        "#split the data (don't scale the data yet)\n",
        "y = df['profit']\n",
        "X = df.iloc[: , :-1]\n",
        "\n",
        "#Create dummy variables \n",
        "X = pd.get_dummies(X, drop_first=True)\n",
        "\n",
        "\n",
        "X_train, X_val, y_train, y_val = train_test_split(X, y, test_size = 0.3, random_state = 1)"
      ],
      "metadata": {
        "id": "WRpZpGG4N2XB"
      },
      "execution_count": 16,
      "outputs": []
    },
    {
      "cell_type": "code",
      "source": [
        "#Check the dimension \n",
        "X_train.shape"
      ],
      "metadata": {
        "colab": {
          "base_uri": "https://localhost:8080/"
        },
        "id": "Sw_YyFZTN62-",
        "outputId": "fdc5f874-dfaa-4846-9a03-71b1612a6ffe"
      },
      "execution_count": 17,
      "outputs": [
        {
          "output_type": "execute_result",
          "data": {
            "text/plain": [
              "(700, 53)"
            ]
          },
          "metadata": {},
          "execution_count": 17
        }
      ]
    },
    {
      "cell_type": "code",
      "source": [
        "X_val.shape"
      ],
      "metadata": {
        "colab": {
          "base_uri": "https://localhost:8080/"
        },
        "id": "-peuw9LlXPeH",
        "outputId": "8db74123-127b-4e7d-d4c3-84ee50b9eb75"
      },
      "execution_count": 18,
      "outputs": [
        {
          "output_type": "execute_result",
          "data": {
            "text/plain": [
              "(300, 53)"
            ]
          },
          "metadata": {},
          "execution_count": 18
        }
      ]
    },
    {
      "cell_type": "markdown",
      "source": [
        "##Ordinary Least Squares Regression Model "
      ],
      "metadata": {
        "id": "nZHmE8uvS21c"
      }
    },
    {
      "cell_type": "code",
      "source": [
        "#create a linear model with output \n",
        "ols_model = sm.OLS(y, sm.add_constant(X))\n",
        "ols_model.fit().summary()"
      ],
      "metadata": {
        "colab": {
          "base_uri": "https://localhost:8080/",
          "height": 1000
        },
        "id": "-jri1TpLTBzL",
        "outputId": "dd151e29-35dd-4493-974d-811cc234f02b"
      },
      "execution_count": 19,
      "outputs": [
        {
          "output_type": "stream",
          "name": "stderr",
          "text": [
            "/usr/local/lib/python3.7/dist-packages/statsmodels/tsa/tsatools.py:142: FutureWarning: In a future version of pandas all arguments of concat except for the argument 'objs' will be keyword-only\n",
            "  x = pd.concat(x[::order], 1)\n"
          ]
        },
        {
          "output_type": "execute_result",
          "data": {
            "text/plain": [
              "<class 'statsmodels.iolib.summary.Summary'>\n",
              "\"\"\"\n",
              "                            OLS Regression Results                            \n",
              "==============================================================================\n",
              "Dep. Variable:                 profit   R-squared:                       0.244\n",
              "Model:                            OLS   Adj. R-squared:                  0.202\n",
              "Method:                 Least Squares   F-statistic:                     5.765\n",
              "Date:                Thu, 13 Oct 2022   Prob (F-statistic):           3.82e-31\n",
              "Time:                        15:59:44   Log-Likelihood:                -8381.4\n",
              "No. Observations:                1000   AIC:                         1.687e+04\n",
              "Df Residuals:                     946   BIC:                         1.714e+04\n",
              "Df Model:                          53                                         \n",
              "Covariance Type:            nonrobust                                         \n",
              "================================================================================================\n",
              "                                   coef    std err          t      P>|t|      [0.025      0.975]\n",
              "------------------------------------------------------------------------------------------------\n",
              "const                          215.3552    450.307      0.478      0.633    -668.362    1099.072\n",
              "duration                         7.6577      4.099      1.868      0.062      -0.386      15.702\n",
              "amount                          -0.1743      0.019     -8.949      0.000      -0.213      -0.136\n",
              "age                             -2.2730      3.691     -0.616      0.538      -9.516       4.970\n",
              "checking_account_1             334.1024     92.245      3.622      0.000     153.075     515.130\n",
              "checking_account_2             180.6118    157.947      1.143      0.253    -129.356     490.579\n",
              "checking_account_3             -78.6215    100.160     -0.785      0.433    -275.182     117.939\n",
              "credit_history_1              -482.0716    194.936     -2.473      0.014    -864.628     -99.515\n",
              "credit_history_2              -557.9443    196.050     -2.846      0.005    -942.688    -173.200\n",
              "credit_history_3               154.5074    140.062      1.103      0.270    -120.361     429.376\n",
              "credit_history_4              -358.6789    104.113     -3.445      0.001    -562.998    -154.360\n",
              "purpose_1                      688.1936    350.755      1.962      0.050      -0.154    1376.541\n",
              "purpose_2                      305.2037    348.832      0.875      0.382    -379.371     989.778\n",
              "purpose_3                      182.2755    412.807      0.442      0.659    -627.849     992.400\n",
              "purpose_4                      258.4591    346.386      0.746      0.456    -421.314     938.232\n",
              "purpose_5                      107.2052    343.934      0.312      0.755    -567.757     782.167\n",
              "purpose_6                      202.4487    469.013      0.432      0.666    -717.978    1122.876\n",
              "purpose_7                      -10.6803    374.045     -0.029      0.977    -744.733     723.373\n",
              "purpose_8                      139.9877    354.214      0.395      0.693    -555.149     835.124\n",
              "purpose_9                      226.8195    504.920      0.449      0.653    -764.074    1217.713\n",
              "savings_account_1              311.7529    139.348      2.237      0.026      38.286     585.220\n",
              "savings_account_2             -135.7081    179.543     -0.756      0.450    -488.057     216.641\n",
              "savings_account_3              171.4836    195.958      0.875      0.382    -213.079     556.046\n",
              "savings_account_4             -100.3759    121.634     -0.825      0.409    -339.079     138.327\n",
              "employment_duration_1          195.5724    106.459      1.837      0.067     -13.350     404.495\n",
              "employment_duration_2           56.4537    109.424      0.516      0.606    -158.287     271.195\n",
              "employment_duration_3           -2.5666    103.384     -0.025      0.980    -205.455     200.322\n",
              "employment_duration_4          199.7527    181.421      1.101      0.271    -156.281     555.786\n",
              "installment_rate_1             159.5304    115.564      1.380      0.168     -67.261     386.322\n",
              "installment_rate_2            -198.3565    104.531     -1.898      0.058    -403.495       6.782\n",
              "installment_rate_3              91.3740    134.307      0.680      0.496    -172.201     354.949\n",
              "other_debtors_1                246.9426    236.353      1.045      0.296    -216.893     710.779\n",
              "other_debtors_2                  5.9073    181.459      0.033      0.974    -350.201     362.016\n",
              "present_residence_1            179.8668    115.403      1.559      0.119     -46.609     406.342\n",
              "present_residence_2            111.4707    120.945      0.922      0.357    -125.880     348.821\n",
              "present_residence_3            143.3643     93.513      1.533      0.126     -40.152     326.881\n",
              "property_1                    -132.3928     97.603     -1.356      0.175    -323.937      59.151\n",
              "property_2                    -512.8543    165.256     -3.103      0.002    -837.165    -188.543\n",
              "property_3                    -100.2241     97.193     -1.031      0.303    -290.963      90.514\n",
              "other_installment_plans_1       22.1605    108.921      0.203      0.839    -191.594     235.915\n",
              "other_installment_plans_2     -180.1367    189.573     -0.950      0.342    -552.168     191.895\n",
              "housing_1                      432.7804    196.892      2.198      0.028      46.385     819.176\n",
              "housing_2                       95.9947    101.212      0.948      0.343    -102.632     294.621\n",
              "number_credits_1              -215.8253     97.598     -2.211      0.027    -407.359     -24.291\n",
              "number_credits_2              -163.6941    232.510     -0.704      0.482    -619.989     292.600\n",
              "number_credits_3              -820.4685    462.585     -1.774      0.076   -1728.279      87.342\n",
              "job_1                         -100.2867    120.200     -0.834      0.404    -336.176     135.603\n",
              "job_2                         -174.9127    281.031     -0.622      0.534    -726.429     376.603\n",
              "job_3                          -73.4514    146.990     -0.500      0.617    -361.916     215.013\n",
              "people_liable_1                104.9086    103.440      1.014      0.311     -98.089     307.906\n",
              "telephone_1                    -78.8391     80.937     -0.974      0.330    -237.675      79.997\n",
              "foreign_worker_1                43.6566    193.191      0.226      0.821    -335.475     422.788\n",
              "gender_male                    264.0735     82.053      3.218      0.001     103.046     425.101\n",
              "gender_nonbinary/notreported   575.0002    169.200      3.398      0.001     242.949     907.051\n",
              "==============================================================================\n",
              "Omnibus:                      170.601   Durbin-Watson:                   1.500\n",
              "Prob(Omnibus):                  0.000   Jarque-Bera (JB):             1211.969\n",
              "Skew:                          -0.573   Prob(JB):                    6.67e-264\n",
              "Kurtosis:                       8.270   Cond. No.                     1.36e+05\n",
              "==============================================================================\n",
              "\n",
              "Notes:\n",
              "[1] Standard Errors assume that the covariance matrix of the errors is correctly specified.\n",
              "[2] The condition number is large, 1.36e+05. This might indicate that there are\n",
              "strong multicollinearity or other numerical problems.\n",
              "\"\"\""
            ],
            "text/html": [
              "<table class=\"simpletable\">\n",
              "<caption>OLS Regression Results</caption>\n",
              "<tr>\n",
              "  <th>Dep. Variable:</th>         <td>profit</td>      <th>  R-squared:         </th> <td>   0.244</td> \n",
              "</tr>\n",
              "<tr>\n",
              "  <th>Model:</th>                   <td>OLS</td>       <th>  Adj. R-squared:    </th> <td>   0.202</td> \n",
              "</tr>\n",
              "<tr>\n",
              "  <th>Method:</th>             <td>Least Squares</td>  <th>  F-statistic:       </th> <td>   5.765</td> \n",
              "</tr>\n",
              "<tr>\n",
              "  <th>Date:</th>             <td>Thu, 13 Oct 2022</td> <th>  Prob (F-statistic):</th> <td>3.82e-31</td> \n",
              "</tr>\n",
              "<tr>\n",
              "  <th>Time:</th>                 <td>15:59:44</td>     <th>  Log-Likelihood:    </th> <td> -8381.4</td> \n",
              "</tr>\n",
              "<tr>\n",
              "  <th>No. Observations:</th>      <td>  1000</td>      <th>  AIC:               </th> <td>1.687e+04</td>\n",
              "</tr>\n",
              "<tr>\n",
              "  <th>Df Residuals:</th>          <td>   946</td>      <th>  BIC:               </th> <td>1.714e+04</td>\n",
              "</tr>\n",
              "<tr>\n",
              "  <th>Df Model:</th>              <td>    53</td>      <th>                     </th>     <td> </td>    \n",
              "</tr>\n",
              "<tr>\n",
              "  <th>Covariance Type:</th>      <td>nonrobust</td>    <th>                     </th>     <td> </td>    \n",
              "</tr>\n",
              "</table>\n",
              "<table class=\"simpletable\">\n",
              "<tr>\n",
              "                <td></td>                  <th>coef</th>     <th>std err</th>      <th>t</th>      <th>P>|t|</th>  <th>[0.025</th>    <th>0.975]</th>  \n",
              "</tr>\n",
              "<tr>\n",
              "  <th>const</th>                        <td>  215.3552</td> <td>  450.307</td> <td>    0.478</td> <td> 0.633</td> <td> -668.362</td> <td> 1099.072</td>\n",
              "</tr>\n",
              "<tr>\n",
              "  <th>duration</th>                     <td>    7.6577</td> <td>    4.099</td> <td>    1.868</td> <td> 0.062</td> <td>   -0.386</td> <td>   15.702</td>\n",
              "</tr>\n",
              "<tr>\n",
              "  <th>amount</th>                       <td>   -0.1743</td> <td>    0.019</td> <td>   -8.949</td> <td> 0.000</td> <td>   -0.213</td> <td>   -0.136</td>\n",
              "</tr>\n",
              "<tr>\n",
              "  <th>age</th>                          <td>   -2.2730</td> <td>    3.691</td> <td>   -0.616</td> <td> 0.538</td> <td>   -9.516</td> <td>    4.970</td>\n",
              "</tr>\n",
              "<tr>\n",
              "  <th>checking_account_1</th>           <td>  334.1024</td> <td>   92.245</td> <td>    3.622</td> <td> 0.000</td> <td>  153.075</td> <td>  515.130</td>\n",
              "</tr>\n",
              "<tr>\n",
              "  <th>checking_account_2</th>           <td>  180.6118</td> <td>  157.947</td> <td>    1.143</td> <td> 0.253</td> <td> -129.356</td> <td>  490.579</td>\n",
              "</tr>\n",
              "<tr>\n",
              "  <th>checking_account_3</th>           <td>  -78.6215</td> <td>  100.160</td> <td>   -0.785</td> <td> 0.433</td> <td> -275.182</td> <td>  117.939</td>\n",
              "</tr>\n",
              "<tr>\n",
              "  <th>credit_history_1</th>             <td> -482.0716</td> <td>  194.936</td> <td>   -2.473</td> <td> 0.014</td> <td> -864.628</td> <td>  -99.515</td>\n",
              "</tr>\n",
              "<tr>\n",
              "  <th>credit_history_2</th>             <td> -557.9443</td> <td>  196.050</td> <td>   -2.846</td> <td> 0.005</td> <td> -942.688</td> <td> -173.200</td>\n",
              "</tr>\n",
              "<tr>\n",
              "  <th>credit_history_3</th>             <td>  154.5074</td> <td>  140.062</td> <td>    1.103</td> <td> 0.270</td> <td> -120.361</td> <td>  429.376</td>\n",
              "</tr>\n",
              "<tr>\n",
              "  <th>credit_history_4</th>             <td> -358.6789</td> <td>  104.113</td> <td>   -3.445</td> <td> 0.001</td> <td> -562.998</td> <td> -154.360</td>\n",
              "</tr>\n",
              "<tr>\n",
              "  <th>purpose_1</th>                    <td>  688.1936</td> <td>  350.755</td> <td>    1.962</td> <td> 0.050</td> <td>   -0.154</td> <td> 1376.541</td>\n",
              "</tr>\n",
              "<tr>\n",
              "  <th>purpose_2</th>                    <td>  305.2037</td> <td>  348.832</td> <td>    0.875</td> <td> 0.382</td> <td> -379.371</td> <td>  989.778</td>\n",
              "</tr>\n",
              "<tr>\n",
              "  <th>purpose_3</th>                    <td>  182.2755</td> <td>  412.807</td> <td>    0.442</td> <td> 0.659</td> <td> -627.849</td> <td>  992.400</td>\n",
              "</tr>\n",
              "<tr>\n",
              "  <th>purpose_4</th>                    <td>  258.4591</td> <td>  346.386</td> <td>    0.746</td> <td> 0.456</td> <td> -421.314</td> <td>  938.232</td>\n",
              "</tr>\n",
              "<tr>\n",
              "  <th>purpose_5</th>                    <td>  107.2052</td> <td>  343.934</td> <td>    0.312</td> <td> 0.755</td> <td> -567.757</td> <td>  782.167</td>\n",
              "</tr>\n",
              "<tr>\n",
              "  <th>purpose_6</th>                    <td>  202.4487</td> <td>  469.013</td> <td>    0.432</td> <td> 0.666</td> <td> -717.978</td> <td> 1122.876</td>\n",
              "</tr>\n",
              "<tr>\n",
              "  <th>purpose_7</th>                    <td>  -10.6803</td> <td>  374.045</td> <td>   -0.029</td> <td> 0.977</td> <td> -744.733</td> <td>  723.373</td>\n",
              "</tr>\n",
              "<tr>\n",
              "  <th>purpose_8</th>                    <td>  139.9877</td> <td>  354.214</td> <td>    0.395</td> <td> 0.693</td> <td> -555.149</td> <td>  835.124</td>\n",
              "</tr>\n",
              "<tr>\n",
              "  <th>purpose_9</th>                    <td>  226.8195</td> <td>  504.920</td> <td>    0.449</td> <td> 0.653</td> <td> -764.074</td> <td> 1217.713</td>\n",
              "</tr>\n",
              "<tr>\n",
              "  <th>savings_account_1</th>            <td>  311.7529</td> <td>  139.348</td> <td>    2.237</td> <td> 0.026</td> <td>   38.286</td> <td>  585.220</td>\n",
              "</tr>\n",
              "<tr>\n",
              "  <th>savings_account_2</th>            <td> -135.7081</td> <td>  179.543</td> <td>   -0.756</td> <td> 0.450</td> <td> -488.057</td> <td>  216.641</td>\n",
              "</tr>\n",
              "<tr>\n",
              "  <th>savings_account_3</th>            <td>  171.4836</td> <td>  195.958</td> <td>    0.875</td> <td> 0.382</td> <td> -213.079</td> <td>  556.046</td>\n",
              "</tr>\n",
              "<tr>\n",
              "  <th>savings_account_4</th>            <td> -100.3759</td> <td>  121.634</td> <td>   -0.825</td> <td> 0.409</td> <td> -339.079</td> <td>  138.327</td>\n",
              "</tr>\n",
              "<tr>\n",
              "  <th>employment_duration_1</th>        <td>  195.5724</td> <td>  106.459</td> <td>    1.837</td> <td> 0.067</td> <td>  -13.350</td> <td>  404.495</td>\n",
              "</tr>\n",
              "<tr>\n",
              "  <th>employment_duration_2</th>        <td>   56.4537</td> <td>  109.424</td> <td>    0.516</td> <td> 0.606</td> <td> -158.287</td> <td>  271.195</td>\n",
              "</tr>\n",
              "<tr>\n",
              "  <th>employment_duration_3</th>        <td>   -2.5666</td> <td>  103.384</td> <td>   -0.025</td> <td> 0.980</td> <td> -205.455</td> <td>  200.322</td>\n",
              "</tr>\n",
              "<tr>\n",
              "  <th>employment_duration_4</th>        <td>  199.7527</td> <td>  181.421</td> <td>    1.101</td> <td> 0.271</td> <td> -156.281</td> <td>  555.786</td>\n",
              "</tr>\n",
              "<tr>\n",
              "  <th>installment_rate_1</th>           <td>  159.5304</td> <td>  115.564</td> <td>    1.380</td> <td> 0.168</td> <td>  -67.261</td> <td>  386.322</td>\n",
              "</tr>\n",
              "<tr>\n",
              "  <th>installment_rate_2</th>           <td> -198.3565</td> <td>  104.531</td> <td>   -1.898</td> <td> 0.058</td> <td> -403.495</td> <td>    6.782</td>\n",
              "</tr>\n",
              "<tr>\n",
              "  <th>installment_rate_3</th>           <td>   91.3740</td> <td>  134.307</td> <td>    0.680</td> <td> 0.496</td> <td> -172.201</td> <td>  354.949</td>\n",
              "</tr>\n",
              "<tr>\n",
              "  <th>other_debtors_1</th>              <td>  246.9426</td> <td>  236.353</td> <td>    1.045</td> <td> 0.296</td> <td> -216.893</td> <td>  710.779</td>\n",
              "</tr>\n",
              "<tr>\n",
              "  <th>other_debtors_2</th>              <td>    5.9073</td> <td>  181.459</td> <td>    0.033</td> <td> 0.974</td> <td> -350.201</td> <td>  362.016</td>\n",
              "</tr>\n",
              "<tr>\n",
              "  <th>present_residence_1</th>          <td>  179.8668</td> <td>  115.403</td> <td>    1.559</td> <td> 0.119</td> <td>  -46.609</td> <td>  406.342</td>\n",
              "</tr>\n",
              "<tr>\n",
              "  <th>present_residence_2</th>          <td>  111.4707</td> <td>  120.945</td> <td>    0.922</td> <td> 0.357</td> <td> -125.880</td> <td>  348.821</td>\n",
              "</tr>\n",
              "<tr>\n",
              "  <th>present_residence_3</th>          <td>  143.3643</td> <td>   93.513</td> <td>    1.533</td> <td> 0.126</td> <td>  -40.152</td> <td>  326.881</td>\n",
              "</tr>\n",
              "<tr>\n",
              "  <th>property_1</th>                   <td> -132.3928</td> <td>   97.603</td> <td>   -1.356</td> <td> 0.175</td> <td> -323.937</td> <td>   59.151</td>\n",
              "</tr>\n",
              "<tr>\n",
              "  <th>property_2</th>                   <td> -512.8543</td> <td>  165.256</td> <td>   -3.103</td> <td> 0.002</td> <td> -837.165</td> <td> -188.543</td>\n",
              "</tr>\n",
              "<tr>\n",
              "  <th>property_3</th>                   <td> -100.2241</td> <td>   97.193</td> <td>   -1.031</td> <td> 0.303</td> <td> -290.963</td> <td>   90.514</td>\n",
              "</tr>\n",
              "<tr>\n",
              "  <th>other_installment_plans_1</th>    <td>   22.1605</td> <td>  108.921</td> <td>    0.203</td> <td> 0.839</td> <td> -191.594</td> <td>  235.915</td>\n",
              "</tr>\n",
              "<tr>\n",
              "  <th>other_installment_plans_2</th>    <td> -180.1367</td> <td>  189.573</td> <td>   -0.950</td> <td> 0.342</td> <td> -552.168</td> <td>  191.895</td>\n",
              "</tr>\n",
              "<tr>\n",
              "  <th>housing_1</th>                    <td>  432.7804</td> <td>  196.892</td> <td>    2.198</td> <td> 0.028</td> <td>   46.385</td> <td>  819.176</td>\n",
              "</tr>\n",
              "<tr>\n",
              "  <th>housing_2</th>                    <td>   95.9947</td> <td>  101.212</td> <td>    0.948</td> <td> 0.343</td> <td> -102.632</td> <td>  294.621</td>\n",
              "</tr>\n",
              "<tr>\n",
              "  <th>number_credits_1</th>             <td> -215.8253</td> <td>   97.598</td> <td>   -2.211</td> <td> 0.027</td> <td> -407.359</td> <td>  -24.291</td>\n",
              "</tr>\n",
              "<tr>\n",
              "  <th>number_credits_2</th>             <td> -163.6941</td> <td>  232.510</td> <td>   -0.704</td> <td> 0.482</td> <td> -619.989</td> <td>  292.600</td>\n",
              "</tr>\n",
              "<tr>\n",
              "  <th>number_credits_3</th>             <td> -820.4685</td> <td>  462.585</td> <td>   -1.774</td> <td> 0.076</td> <td>-1728.279</td> <td>   87.342</td>\n",
              "</tr>\n",
              "<tr>\n",
              "  <th>job_1</th>                        <td> -100.2867</td> <td>  120.200</td> <td>   -0.834</td> <td> 0.404</td> <td> -336.176</td> <td>  135.603</td>\n",
              "</tr>\n",
              "<tr>\n",
              "  <th>job_2</th>                        <td> -174.9127</td> <td>  281.031</td> <td>   -0.622</td> <td> 0.534</td> <td> -726.429</td> <td>  376.603</td>\n",
              "</tr>\n",
              "<tr>\n",
              "  <th>job_3</th>                        <td>  -73.4514</td> <td>  146.990</td> <td>   -0.500</td> <td> 0.617</td> <td> -361.916</td> <td>  215.013</td>\n",
              "</tr>\n",
              "<tr>\n",
              "  <th>people_liable_1</th>              <td>  104.9086</td> <td>  103.440</td> <td>    1.014</td> <td> 0.311</td> <td>  -98.089</td> <td>  307.906</td>\n",
              "</tr>\n",
              "<tr>\n",
              "  <th>telephone_1</th>                  <td>  -78.8391</td> <td>   80.937</td> <td>   -0.974</td> <td> 0.330</td> <td> -237.675</td> <td>   79.997</td>\n",
              "</tr>\n",
              "<tr>\n",
              "  <th>foreign_worker_1</th>             <td>   43.6566</td> <td>  193.191</td> <td>    0.226</td> <td> 0.821</td> <td> -335.475</td> <td>  422.788</td>\n",
              "</tr>\n",
              "<tr>\n",
              "  <th>gender_male</th>                  <td>  264.0735</td> <td>   82.053</td> <td>    3.218</td> <td> 0.001</td> <td>  103.046</td> <td>  425.101</td>\n",
              "</tr>\n",
              "<tr>\n",
              "  <th>gender_nonbinary/notreported</th> <td>  575.0002</td> <td>  169.200</td> <td>    3.398</td> <td> 0.001</td> <td>  242.949</td> <td>  907.051</td>\n",
              "</tr>\n",
              "</table>\n",
              "<table class=\"simpletable\">\n",
              "<tr>\n",
              "  <th>Omnibus:</th>       <td>170.601</td> <th>  Durbin-Watson:     </th> <td>   1.500</td> \n",
              "</tr>\n",
              "<tr>\n",
              "  <th>Prob(Omnibus):</th> <td> 0.000</td>  <th>  Jarque-Bera (JB):  </th> <td>1211.969</td> \n",
              "</tr>\n",
              "<tr>\n",
              "  <th>Skew:</th>          <td>-0.573</td>  <th>  Prob(JB):          </th> <td>6.67e-264</td>\n",
              "</tr>\n",
              "<tr>\n",
              "  <th>Kurtosis:</th>      <td> 8.270</td>  <th>  Cond. No.          </th> <td>1.36e+05</td> \n",
              "</tr>\n",
              "</table><br/><br/>Notes:<br/>[1] Standard Errors assume that the covariance matrix of the errors is correctly specified.<br/>[2] The condition number is large, 1.36e+05. This might indicate that there are<br/>strong multicollinearity or other numerical problems."
            ]
          },
          "metadata": {},
          "execution_count": 19
        }
      ]
    },
    {
      "cell_type": "markdown",
      "source": [
        "##Train and Test for next models"
      ],
      "metadata": {
        "id": "ObtpT_CGERWt"
      }
    },
    {
      "cell_type": "code",
      "source": [
        "#split the data \n",
        "y = df['profit']\n",
        "X = df.iloc[: , :-1]\n",
        "\n",
        "#Create dummy variables \n",
        "X = pd.get_dummies(X, drop_first=True)\n",
        "\n",
        "#scale the data \n",
        "scaler = StandardScaler() \n",
        "X = scaler.fit_transform(X)\n",
        "\n",
        "X_train, X_val, y_train, y_val = train_test_split(X, y, test_size = 0.3, random_state = 1)"
      ],
      "metadata": {
        "id": "KN_RAFE6EQge"
      },
      "execution_count": 20,
      "outputs": []
    },
    {
      "cell_type": "markdown",
      "source": [
        "##Regularization with Lasso and Ridge "
      ],
      "metadata": {
        "id": "gVL9RZ2xb4li"
      }
    },
    {
      "cell_type": "markdown",
      "source": [],
      "metadata": {
        "id": "NhZ9kEEjt5jK"
      }
    },
    {
      "cell_type": "markdown",
      "source": [
        "##We will use the Root Mean Square Error as our performance metric.\n",
        "\n",
        "#The regression model formula is given by \n",
        "\n",
        "##$$Y_i = β_o + β_1X_{i1} + \\beta_2X_{i2} +...\\beta_{p-1}X_{i,p-1} + ϵ_i $$\n",
        "\n",
        "#If we substract, we can get \n",
        "\n",
        "## $$  \\epsilon_i = Y_i -  (β_o + β_1X_{i1} + \\beta_2X_{i2} +...\\beta_{p-1}X_{i,p-1})$$\n",
        "\n",
        "## so that  $$\\epsilon_i = Y_i - (\\beta_0 + \\sum_{j=1}^{p-1} \\beta_jX_{ij})$$\n",
        "\n",
        "#We can replace the the summation with \n",
        "\n",
        "##$$\\epsilon_i = Y_i -  \\hat{Y_i}$$\n",
        "\n",
        "## upon squaring, we get the sum of the squared errors (often referred to as the resdiual sum of squares or $SS_R$\n",
        "\n",
        "##$$\\sum_{i=1}^n (Y_i -  \\hat{Y_i})^2$$\n",
        "\n",
        "We seek to minimize the loss function, given by \n",
        "\n",
        "## $$Loss = \\frac{\\sum_{i=1}^n (Y_i -  \\hat{Y_i})^2}{n}$$\n",
        "\n",
        "##From this, we get the root mean square error, RMSE \n",
        "\n",
        "## $$RMSE = \\sqrt{\\frac{\\sum_{i=1}^n (Y_i -  \\hat{Y_i})^2}{n}}$$\n",
        "\n"
      ],
      "metadata": {
        "id": "SpKCYiKot7P6"
      }
    },
    {
      "cell_type": "code",
      "source": [
        "#Create a function for RMSE \n",
        "\n",
        "def RMSE(y_train, y_pred):\n",
        "  return np.sqrt(mean_squared_error(y_train, y_pred))\n"
      ],
      "metadata": {
        "id": "4xAN8M0uATsV"
      },
      "execution_count": 21,
      "outputs": []
    },
    {
      "cell_type": "markdown",
      "source": [
        "#Lasso \n",
        "Lasso regression is great for feature selection and to prevent overfitting \n",
        "\n",
        "## $$Loss =  ∑_{i=1}^{n}(y_i - \\hat{y_i})^2 + λ∑_{j=1}^{p}|β_j|$$"
      ],
      "metadata": {
        "id": "xDsex-FYs-0o"
      }
    },
    {
      "cell_type": "code",
      "source": [
        "##Lasso \n",
        "alphas = np.arange(.01, 60, 0.5)\n",
        "lasso_model = LassoCV(alphas = alphas, cv=5, max_iter=5e4)\n",
        "\n",
        "lasso_model.fit(X_train, y_train)\n",
        "\n",
        "print('alpha: %f' % lasso_model.alpha_)\n",
        "\n"
      ],
      "metadata": {
        "colab": {
          "base_uri": "https://localhost:8080/"
        },
        "id": "90sEAkjVrnlF",
        "outputId": "483fda76-fd48-41bf-c752-37c4478230bb"
      },
      "execution_count": 22,
      "outputs": [
        {
          "output_type": "stream",
          "name": "stdout",
          "text": [
            "alpha: 45.510000\n"
          ]
        }
      ]
    },
    {
      "cell_type": "code",
      "source": [
        "lasso_best = Lasso(alpha = lasso_model.alpha_)\n",
        "lasso_best.fit(X_train, y_train)\n",
        "\n",
        "\n"
      ],
      "metadata": {
        "colab": {
          "base_uri": "https://localhost:8080/"
        },
        "id": "ulL_S2nxfXy4",
        "outputId": "3a3fa93a-155f-4bb8-d265-cc00353c2ed3"
      },
      "execution_count": 23,
      "outputs": [
        {
          "output_type": "execute_result",
          "data": {
            "text/plain": [
              "Lasso(alpha=45.51)"
            ]
          },
          "metadata": {},
          "execution_count": 23
        }
      ]
    },
    {
      "cell_type": "code",
      "source": [],
      "metadata": {
        "id": "OihLiozzfmQC"
      },
      "execution_count": 23,
      "outputs": []
    },
    {
      "cell_type": "markdown",
      "source": [],
      "metadata": {
        "id": "MErS-Y2Vs01C"
      }
    },
    {
      "cell_type": "markdown",
      "source": [
        "##Ridge \n",
        "\n",
        "Ridge regression is good to help prevent overfitting, but not as good as Lasso at feature selection \n",
        "\n",
        "##$$ Loss=  ∑_{i=1}^{n}(y_i - \\hat{y_i})^2 + λ∑_{j=1}^{p}{β_j}^2$$"
      ],
      "metadata": {
        "id": "kFRMDmz1E1B2"
      }
    },
    {
      "cell_type": "code",
      "source": [
        "#Ridge "
      ],
      "metadata": {
        "id": "lFRlfUicFTnh"
      },
      "execution_count": 24,
      "outputs": []
    },
    {
      "cell_type": "code",
      "source": [
        " #Generate our model with best hyperparameter \n",
        "\n",
        "alpha = np.arange(.01, 400, 2)\n",
        "ridge_model = RidgeCV(alphas = alpha, cv = 5)\n",
        "\n",
        "#fit the model \n",
        "ridge_model.fit(X_train, y_train)\n",
        "\n",
        "print('alpha : %f' % ridge_model.alpha_)\n",
        "\n"
      ],
      "metadata": {
        "colab": {
          "base_uri": "https://localhost:8080/"
        },
        "id": "qvB_HsyLFqUn",
        "outputId": "f249c8b0-471b-4fa8-8ae5-117008532667"
      },
      "execution_count": 25,
      "outputs": [
        {
          "output_type": "stream",
          "name": "stdout",
          "text": [
            "alpha : 298.010000\n"
          ]
        }
      ]
    },
    {
      "cell_type": "code",
      "source": [
        "#Generate the best \n",
        "\n",
        "ridge_best = Ridge(alpha=ridge_model.alpha_)\n",
        "ridge_best.fit(X_train, y_train) "
      ],
      "metadata": {
        "colab": {
          "base_uri": "https://localhost:8080/"
        },
        "id": "zR91Ld08gZvZ",
        "outputId": "455e7ddc-adcb-4119-ac29-a4debc661349"
      },
      "execution_count": 26,
      "outputs": [
        {
          "output_type": "execute_result",
          "data": {
            "text/plain": [
              "Ridge(alpha=298.00999999999993)"
            ]
          },
          "metadata": {},
          "execution_count": 26
        }
      ]
    },
    {
      "cell_type": "code",
      "source": [
        "#Generate no-penalty model \n",
        "\n",
        "ols_no_penatly = LinearRegression().fit(X_train, y_train)"
      ],
      "metadata": {
        "id": "uHrZMmfHg-T4"
      },
      "execution_count": 27,
      "outputs": []
    },
    {
      "cell_type": "markdown",
      "source": [
        "##Compare Models "
      ],
      "metadata": {
        "id": "9JPSBfD4FrI0"
      }
    },
    {
      "cell_type": "code",
      "source": [
        "##Create RMSE for train and val\n",
        "\n",
        "#OLS Model \n",
        "ols_train_model = round(RMSE(y_train, ols_no_penatly.predict(X_train)),2)\n",
        "ols_val_model = round(RMSE(y_val, ols_no_penatly.predict(X_val)),2)\n",
        "\n",
        "\n",
        "#Lasso Model \n",
        "lasso_train_model = round(RMSE(y_train, lasso_best.predict(X_train)),2)\n",
        "lasso_val_model = round(RMSE(y_val, lasso_best.predict(X_val)),2)\n",
        "\n",
        "\n",
        "#Ridge Model \n",
        "ridge_train_model = round(RMSE(y_train, ridge_best.predict(X_train)),2)\n",
        "ridge_val_model = round(RMSE(y_val, ridge_best.predict(X_val)),2)\n",
        "\n",
        "\n",
        "\n"
      ],
      "metadata": {
        "id": "joGc8yd7Fsev"
      },
      "execution_count": 28,
      "outputs": []
    },
    {
      "cell_type": "code",
      "source": [
        "#print df for RMSE \n",
        "pd.DataFrame([[ols_train_model, ols_val_model], [lasso_train_model, lasso_val_model], [ridge_train_model, ridge_val_model]], \n",
        "             columns = [\"RMSE Train\", \"RMSE Val\"], index= [\"OLS\", \"Lasso\", \"Ridge\"])"
      ],
      "metadata": {
        "colab": {
          "base_uri": "https://localhost:8080/",
          "height": 143
        },
        "id": "15fztpBWFwVX",
        "outputId": "9fda2937-7801-4b29-f1d0-cd351c4ec97f"
      },
      "execution_count": 29,
      "outputs": [
        {
          "output_type": "execute_result",
          "data": {
            "text/plain": [
              "       RMSE Train  RMSE Val\n",
              "OLS       1037.37   1137.87\n",
              "Lasso     1073.47   1130.17\n",
              "Ridge     1062.56   1136.92"
            ],
            "text/html": [
              "\n",
              "  <div id=\"df-b84ebece-5ea6-4321-909f-454a1ce3cba9\">\n",
              "    <div class=\"colab-df-container\">\n",
              "      <div>\n",
              "<style scoped>\n",
              "    .dataframe tbody tr th:only-of-type {\n",
              "        vertical-align: middle;\n",
              "    }\n",
              "\n",
              "    .dataframe tbody tr th {\n",
              "        vertical-align: top;\n",
              "    }\n",
              "\n",
              "    .dataframe thead th {\n",
              "        text-align: right;\n",
              "    }\n",
              "</style>\n",
              "<table border=\"1\" class=\"dataframe\">\n",
              "  <thead>\n",
              "    <tr style=\"text-align: right;\">\n",
              "      <th></th>\n",
              "      <th>RMSE Train</th>\n",
              "      <th>RMSE Val</th>\n",
              "    </tr>\n",
              "  </thead>\n",
              "  <tbody>\n",
              "    <tr>\n",
              "      <th>OLS</th>\n",
              "      <td>1037.37</td>\n",
              "      <td>1137.87</td>\n",
              "    </tr>\n",
              "    <tr>\n",
              "      <th>Lasso</th>\n",
              "      <td>1073.47</td>\n",
              "      <td>1130.17</td>\n",
              "    </tr>\n",
              "    <tr>\n",
              "      <th>Ridge</th>\n",
              "      <td>1062.56</td>\n",
              "      <td>1136.92</td>\n",
              "    </tr>\n",
              "  </tbody>\n",
              "</table>\n",
              "</div>\n",
              "      <button class=\"colab-df-convert\" onclick=\"convertToInteractive('df-b84ebece-5ea6-4321-909f-454a1ce3cba9')\"\n",
              "              title=\"Convert this dataframe to an interactive table.\"\n",
              "              style=\"display:none;\">\n",
              "        \n",
              "  <svg xmlns=\"http://www.w3.org/2000/svg\" height=\"24px\"viewBox=\"0 0 24 24\"\n",
              "       width=\"24px\">\n",
              "    <path d=\"M0 0h24v24H0V0z\" fill=\"none\"/>\n",
              "    <path d=\"M18.56 5.44l.94 2.06.94-2.06 2.06-.94-2.06-.94-.94-2.06-.94 2.06-2.06.94zm-11 1L8.5 8.5l.94-2.06 2.06-.94-2.06-.94L8.5 2.5l-.94 2.06-2.06.94zm10 10l.94 2.06.94-2.06 2.06-.94-2.06-.94-.94-2.06-.94 2.06-2.06.94z\"/><path d=\"M17.41 7.96l-1.37-1.37c-.4-.4-.92-.59-1.43-.59-.52 0-1.04.2-1.43.59L10.3 9.45l-7.72 7.72c-.78.78-.78 2.05 0 2.83L4 21.41c.39.39.9.59 1.41.59.51 0 1.02-.2 1.41-.59l7.78-7.78 2.81-2.81c.8-.78.8-2.07 0-2.86zM5.41 20L4 18.59l7.72-7.72 1.47 1.35L5.41 20z\"/>\n",
              "  </svg>\n",
              "      </button>\n",
              "      \n",
              "  <style>\n",
              "    .colab-df-container {\n",
              "      display:flex;\n",
              "      flex-wrap:wrap;\n",
              "      gap: 12px;\n",
              "    }\n",
              "\n",
              "    .colab-df-convert {\n",
              "      background-color: #E8F0FE;\n",
              "      border: none;\n",
              "      border-radius: 50%;\n",
              "      cursor: pointer;\n",
              "      display: none;\n",
              "      fill: #1967D2;\n",
              "      height: 32px;\n",
              "      padding: 0 0 0 0;\n",
              "      width: 32px;\n",
              "    }\n",
              "\n",
              "    .colab-df-convert:hover {\n",
              "      background-color: #E2EBFA;\n",
              "      box-shadow: 0px 1px 2px rgba(60, 64, 67, 0.3), 0px 1px 3px 1px rgba(60, 64, 67, 0.15);\n",
              "      fill: #174EA6;\n",
              "    }\n",
              "\n",
              "    [theme=dark] .colab-df-convert {\n",
              "      background-color: #3B4455;\n",
              "      fill: #D2E3FC;\n",
              "    }\n",
              "\n",
              "    [theme=dark] .colab-df-convert:hover {\n",
              "      background-color: #434B5C;\n",
              "      box-shadow: 0px 1px 3px 1px rgba(0, 0, 0, 0.15);\n",
              "      filter: drop-shadow(0px 1px 2px rgba(0, 0, 0, 0.3));\n",
              "      fill: #FFFFFF;\n",
              "    }\n",
              "  </style>\n",
              "\n",
              "      <script>\n",
              "        const buttonEl =\n",
              "          document.querySelector('#df-b84ebece-5ea6-4321-909f-454a1ce3cba9 button.colab-df-convert');\n",
              "        buttonEl.style.display =\n",
              "          google.colab.kernel.accessAllowed ? 'block' : 'none';\n",
              "\n",
              "        async function convertToInteractive(key) {\n",
              "          const element = document.querySelector('#df-b84ebece-5ea6-4321-909f-454a1ce3cba9');\n",
              "          const dataTable =\n",
              "            await google.colab.kernel.invokeFunction('convertToInteractive',\n",
              "                                                     [key], {});\n",
              "          if (!dataTable) return;\n",
              "\n",
              "          const docLinkHtml = 'Like what you see? Visit the ' +\n",
              "            '<a target=\"_blank\" href=https://colab.research.google.com/notebooks/data_table.ipynb>data table notebook</a>'\n",
              "            + ' to learn more about interactive tables.';\n",
              "          element.innerHTML = '';\n",
              "          dataTable['output_type'] = 'display_data';\n",
              "          await google.colab.output.renderOutput(dataTable, element);\n",
              "          const docLink = document.createElement('div');\n",
              "          docLink.innerHTML = docLinkHtml;\n",
              "          element.appendChild(docLink);\n",
              "        }\n",
              "      </script>\n",
              "    </div>\n",
              "  </div>\n",
              "  "
            ]
          },
          "metadata": {},
          "execution_count": 29
        }
      ]
    },
    {
      "cell_type": "markdown",
      "source": [],
      "metadata": {
        "id": "qTLNNwROGl6T"
      }
    },
    {
      "cell_type": "markdown",
      "source": [],
      "metadata": {
        "id": "j7p3MDQmipSj"
      }
    },
    {
      "cell_type": "markdown",
      "source": [
        "\n",
        "Citations\n",
        "\n",
        "Some of the ideas and code snippets were borrowed from:\n",
        "Dr. Bjarnadóttir, October 12, 2022, \"Linear Regression in a Predictive Setting\" & \"Model Selection\", Pyton, .ipynb, https://www.rhsmith.umd.edu/directory/margret-bjarnadottir\n"
      ],
      "metadata": {
        "id": "JJTAWtpwGoDA"
      }
    },
    {
      "cell_type": "code",
      "source": [],
      "metadata": {
        "id": "o8pUPaDkH4di"
      },
      "execution_count": 29,
      "outputs": []
    }
  ]
}