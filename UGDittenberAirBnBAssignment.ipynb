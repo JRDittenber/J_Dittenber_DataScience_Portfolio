{
  "cells": [
    {
      "cell_type": "markdown",
      "id": "cf7a4bf7",
      "metadata": {
        "id": "cf7a4bf7"
      },
      "source": [
        "## AirBnB Assignment Part II Stub File"
      ]
    },
    {
      "cell_type": "code",
      "source": [],
      "metadata": {
        "id": "CoepfZR7gu6h"
      },
      "id": "CoepfZR7gu6h",
      "execution_count": null,
      "outputs": []
    },
    {
      "cell_type": "markdown",
      "id": "3c5e53fb",
      "metadata": {
        "id": "3c5e53fb"
      },
      "source": [
        "#### Guidelines\n",
        "\n",
        "- Go through the data dictionary thoroughly before starting the assignment. That will give you a good idea of what each column represents before you begin the analysis.\n",
        "\n",
        "\n",
        "- Read each instruction carefully, identify the task to be performed, and only then write the required code. The assignment is meant to be straightforward. You do not need to perform additional analyses that are not requested explicitly. However you are encouraged to perform a few additional analyses to get deeper into the insights\n",
        "\n",
        "\n",
        "- Some of the tasks might require using functions you may not have used previously. In such cases, you should rely on the library documentation you referred to in the modules. Please understand that completing this assignment is a learning process, and research is part of it.\n",
        "\n",
        "\n",
        "- Always run the cells of the Notebook sequentially, restart the kernel, and run all the cells to avoid runtime errors.\n",
        "\n",
        "\n",
        "- For each of the tasks, there's a code cell where you are supposed to write the code and a markdown cell below it mentioning to either write the answer or mention your observations/insights from the output of the code.\n",
        "\n",
        "\n",
        "- Many of the questions will require you to view them from multiple angles. You have been asked to **observe any trends in the visualizations and provide insights for these trends**. In other words, there will be no fixed answers. You are expected to apply your problem-solving skills to come up with solutions and also document your work appropriately; both of these are part of the assignment grading."
      ]
    },
    {
      "cell_type": "code",
      "execution_count": null,
      "id": "3e434aef",
      "metadata": {
        "id": "3e434aef"
      },
      "outputs": [],
      "source": [
        "##Import the libraries\n",
        "import pandas as pd\n",
        "import numpy as np\n",
        "import seaborn as sns\n",
        "import matplotlib.pyplot as plt \n",
        "\n",
        "import warnings\n",
        "warnings.filterwarnings(\"ignore\")"
      ]
    },
    {
      "cell_type": "code",
      "execution_count": null,
      "id": "c19dfb64",
      "metadata": {
        "id": "c19dfb64"
      },
      "outputs": [],
      "source": [
        "#Load the dataset\n",
        "df = pd.read_csv(\"/content/airbnblistings (1).csv\")"
      ]
    },
    {
      "cell_type": "code",
      "execution_count": null,
      "id": "f1435ea0",
      "metadata": {
        "colab": {
          "base_uri": "https://localhost:8080/",
          "height": 542
        },
        "id": "f1435ea0",
        "outputId": "6d383e16-7013-48da-c0ad-50aef9f865fc"
      },
      "outputs": [
        {
          "output_type": "execute_result",
          "data": {
            "text/plain": [
              "      id                                               name  host_id  \\\n",
              "0   2818           Quiet Garden View Room & Super Fast WiFi     3159   \n",
              "1  20168       Studio with private bathroom in the centre 1    59484   \n",
              "2  27886  Romantic, stylish B&B houseboat in canal district    97647   \n",
              "3  28871                            Comfortable double room   124245   \n",
              "4  29051                            Comfortable single room   124245   \n",
              "\n",
              "   host_name  host_since_Year                           neighbourhood  \\\n",
              "0     Daniel             2008  Oostelijk Havengebied - Indische Buurt   \n",
              "1  Alexander             2009                            Centrum-Oost   \n",
              "2       Flip             2010                            Centrum-West   \n",
              "3      Edwin             2010                            Centrum-West   \n",
              "4      Edwin             2010                            Centrum-Oost   \n",
              "\n",
              "   latitude  longitude     room_type  price  ...  last_review  \\\n",
              "0  52.36435    4.94358  Private room     49  ...   2022-06-01   \n",
              "1  52.36407    4.89393  Private room    106  ...   2020-04-09   \n",
              "2  52.38761    4.89188  Private room    126  ...   2022-04-24   \n",
              "3  52.36775    4.89092  Private room     75  ...   2022-06-04   \n",
              "4  52.36584    4.89111  Private room     55  ...   2022-06-02   \n",
              "\n",
              "   review_scores_rating review_scores_accuracy  review_scores_cleanliness  \\\n",
              "0                  4.89                   4.93                       5.00   \n",
              "1                  4.44                   4.69                       4.79   \n",
              "2                  4.94                   4.92                       4.95   \n",
              "3                  4.88                   4.95                       4.90   \n",
              "4                  4.79                   4.88                       4.84   \n",
              "\n",
              "   review_scores_checkin  review_scores_communication  review_scores_location  \\\n",
              "0                   4.97                         4.98                    4.69   \n",
              "1                   4.63                         4.62                    4.87   \n",
              "2                   4.95                         4.92                    4.89   \n",
              "3                   4.96                         4.94                    4.97   \n",
              "4                   4.92                         4.91                    4.87   \n",
              "\n",
              "   review_scores_value  accommodates  bedrooms  \n",
              "0                 4.82             2       1.0  \n",
              "1                 4.49             2       1.0  \n",
              "2                 4.79             2       1.0  \n",
              "3                 4.83             2       1.0  \n",
              "4                 4.76             1       1.0  \n",
              "\n",
              "[5 rows x 22 columns]"
            ],
            "text/html": [
              "\n",
              "  <div id=\"df-0fd762b7-9206-4725-81e7-8fddaef6c9a9\">\n",
              "    <div class=\"colab-df-container\">\n",
              "      <div>\n",
              "<style scoped>\n",
              "    .dataframe tbody tr th:only-of-type {\n",
              "        vertical-align: middle;\n",
              "    }\n",
              "\n",
              "    .dataframe tbody tr th {\n",
              "        vertical-align: top;\n",
              "    }\n",
              "\n",
              "    .dataframe thead th {\n",
              "        text-align: right;\n",
              "    }\n",
              "</style>\n",
              "<table border=\"1\" class=\"dataframe\">\n",
              "  <thead>\n",
              "    <tr style=\"text-align: right;\">\n",
              "      <th></th>\n",
              "      <th>id</th>\n",
              "      <th>name</th>\n",
              "      <th>host_id</th>\n",
              "      <th>host_name</th>\n",
              "      <th>host_since_Year</th>\n",
              "      <th>neighbourhood</th>\n",
              "      <th>latitude</th>\n",
              "      <th>longitude</th>\n",
              "      <th>room_type</th>\n",
              "      <th>price</th>\n",
              "      <th>...</th>\n",
              "      <th>last_review</th>\n",
              "      <th>review_scores_rating</th>\n",
              "      <th>review_scores_accuracy</th>\n",
              "      <th>review_scores_cleanliness</th>\n",
              "      <th>review_scores_checkin</th>\n",
              "      <th>review_scores_communication</th>\n",
              "      <th>review_scores_location</th>\n",
              "      <th>review_scores_value</th>\n",
              "      <th>accommodates</th>\n",
              "      <th>bedrooms</th>\n",
              "    </tr>\n",
              "  </thead>\n",
              "  <tbody>\n",
              "    <tr>\n",
              "      <th>0</th>\n",
              "      <td>2818</td>\n",
              "      <td>Quiet Garden View Room &amp; Super Fast WiFi</td>\n",
              "      <td>3159</td>\n",
              "      <td>Daniel</td>\n",
              "      <td>2008</td>\n",
              "      <td>Oostelijk Havengebied - Indische Buurt</td>\n",
              "      <td>52.36435</td>\n",
              "      <td>4.94358</td>\n",
              "      <td>Private room</td>\n",
              "      <td>49</td>\n",
              "      <td>...</td>\n",
              "      <td>2022-06-01</td>\n",
              "      <td>4.89</td>\n",
              "      <td>4.93</td>\n",
              "      <td>5.00</td>\n",
              "      <td>4.97</td>\n",
              "      <td>4.98</td>\n",
              "      <td>4.69</td>\n",
              "      <td>4.82</td>\n",
              "      <td>2</td>\n",
              "      <td>1.0</td>\n",
              "    </tr>\n",
              "    <tr>\n",
              "      <th>1</th>\n",
              "      <td>20168</td>\n",
              "      <td>Studio with private bathroom in the centre 1</td>\n",
              "      <td>59484</td>\n",
              "      <td>Alexander</td>\n",
              "      <td>2009</td>\n",
              "      <td>Centrum-Oost</td>\n",
              "      <td>52.36407</td>\n",
              "      <td>4.89393</td>\n",
              "      <td>Private room</td>\n",
              "      <td>106</td>\n",
              "      <td>...</td>\n",
              "      <td>2020-04-09</td>\n",
              "      <td>4.44</td>\n",
              "      <td>4.69</td>\n",
              "      <td>4.79</td>\n",
              "      <td>4.63</td>\n",
              "      <td>4.62</td>\n",
              "      <td>4.87</td>\n",
              "      <td>4.49</td>\n",
              "      <td>2</td>\n",
              "      <td>1.0</td>\n",
              "    </tr>\n",
              "    <tr>\n",
              "      <th>2</th>\n",
              "      <td>27886</td>\n",
              "      <td>Romantic, stylish B&amp;B houseboat in canal district</td>\n",
              "      <td>97647</td>\n",
              "      <td>Flip</td>\n",
              "      <td>2010</td>\n",
              "      <td>Centrum-West</td>\n",
              "      <td>52.38761</td>\n",
              "      <td>4.89188</td>\n",
              "      <td>Private room</td>\n",
              "      <td>126</td>\n",
              "      <td>...</td>\n",
              "      <td>2022-04-24</td>\n",
              "      <td>4.94</td>\n",
              "      <td>4.92</td>\n",
              "      <td>4.95</td>\n",
              "      <td>4.95</td>\n",
              "      <td>4.92</td>\n",
              "      <td>4.89</td>\n",
              "      <td>4.79</td>\n",
              "      <td>2</td>\n",
              "      <td>1.0</td>\n",
              "    </tr>\n",
              "    <tr>\n",
              "      <th>3</th>\n",
              "      <td>28871</td>\n",
              "      <td>Comfortable double room</td>\n",
              "      <td>124245</td>\n",
              "      <td>Edwin</td>\n",
              "      <td>2010</td>\n",
              "      <td>Centrum-West</td>\n",
              "      <td>52.36775</td>\n",
              "      <td>4.89092</td>\n",
              "      <td>Private room</td>\n",
              "      <td>75</td>\n",
              "      <td>...</td>\n",
              "      <td>2022-06-04</td>\n",
              "      <td>4.88</td>\n",
              "      <td>4.95</td>\n",
              "      <td>4.90</td>\n",
              "      <td>4.96</td>\n",
              "      <td>4.94</td>\n",
              "      <td>4.97</td>\n",
              "      <td>4.83</td>\n",
              "      <td>2</td>\n",
              "      <td>1.0</td>\n",
              "    </tr>\n",
              "    <tr>\n",
              "      <th>4</th>\n",
              "      <td>29051</td>\n",
              "      <td>Comfortable single room</td>\n",
              "      <td>124245</td>\n",
              "      <td>Edwin</td>\n",
              "      <td>2010</td>\n",
              "      <td>Centrum-Oost</td>\n",
              "      <td>52.36584</td>\n",
              "      <td>4.89111</td>\n",
              "      <td>Private room</td>\n",
              "      <td>55</td>\n",
              "      <td>...</td>\n",
              "      <td>2022-06-02</td>\n",
              "      <td>4.79</td>\n",
              "      <td>4.88</td>\n",
              "      <td>4.84</td>\n",
              "      <td>4.92</td>\n",
              "      <td>4.91</td>\n",
              "      <td>4.87</td>\n",
              "      <td>4.76</td>\n",
              "      <td>1</td>\n",
              "      <td>1.0</td>\n",
              "    </tr>\n",
              "  </tbody>\n",
              "</table>\n",
              "<p>5 rows × 22 columns</p>\n",
              "</div>\n",
              "      <button class=\"colab-df-convert\" onclick=\"convertToInteractive('df-0fd762b7-9206-4725-81e7-8fddaef6c9a9')\"\n",
              "              title=\"Convert this dataframe to an interactive table.\"\n",
              "              style=\"display:none;\">\n",
              "        \n",
              "  <svg xmlns=\"http://www.w3.org/2000/svg\" height=\"24px\"viewBox=\"0 0 24 24\"\n",
              "       width=\"24px\">\n",
              "    <path d=\"M0 0h24v24H0V0z\" fill=\"none\"/>\n",
              "    <path d=\"M18.56 5.44l.94 2.06.94-2.06 2.06-.94-2.06-.94-.94-2.06-.94 2.06-2.06.94zm-11 1L8.5 8.5l.94-2.06 2.06-.94-2.06-.94L8.5 2.5l-.94 2.06-2.06.94zm10 10l.94 2.06.94-2.06 2.06-.94-2.06-.94-.94-2.06-.94 2.06-2.06.94z\"/><path d=\"M17.41 7.96l-1.37-1.37c-.4-.4-.92-.59-1.43-.59-.52 0-1.04.2-1.43.59L10.3 9.45l-7.72 7.72c-.78.78-.78 2.05 0 2.83L4 21.41c.39.39.9.59 1.41.59.51 0 1.02-.2 1.41-.59l7.78-7.78 2.81-2.81c.8-.78.8-2.07 0-2.86zM5.41 20L4 18.59l7.72-7.72 1.47 1.35L5.41 20z\"/>\n",
              "  </svg>\n",
              "      </button>\n",
              "      \n",
              "  <style>\n",
              "    .colab-df-container {\n",
              "      display:flex;\n",
              "      flex-wrap:wrap;\n",
              "      gap: 12px;\n",
              "    }\n",
              "\n",
              "    .colab-df-convert {\n",
              "      background-color: #E8F0FE;\n",
              "      border: none;\n",
              "      border-radius: 50%;\n",
              "      cursor: pointer;\n",
              "      display: none;\n",
              "      fill: #1967D2;\n",
              "      height: 32px;\n",
              "      padding: 0 0 0 0;\n",
              "      width: 32px;\n",
              "    }\n",
              "\n",
              "    .colab-df-convert:hover {\n",
              "      background-color: #E2EBFA;\n",
              "      box-shadow: 0px 1px 2px rgba(60, 64, 67, 0.3), 0px 1px 3px 1px rgba(60, 64, 67, 0.15);\n",
              "      fill: #174EA6;\n",
              "    }\n",
              "\n",
              "    [theme=dark] .colab-df-convert {\n",
              "      background-color: #3B4455;\n",
              "      fill: #D2E3FC;\n",
              "    }\n",
              "\n",
              "    [theme=dark] .colab-df-convert:hover {\n",
              "      background-color: #434B5C;\n",
              "      box-shadow: 0px 1px 3px 1px rgba(0, 0, 0, 0.15);\n",
              "      filter: drop-shadow(0px 1px 2px rgba(0, 0, 0, 0.3));\n",
              "      fill: #FFFFFF;\n",
              "    }\n",
              "  </style>\n",
              "\n",
              "      <script>\n",
              "        const buttonEl =\n",
              "          document.querySelector('#df-0fd762b7-9206-4725-81e7-8fddaef6c9a9 button.colab-df-convert');\n",
              "        buttonEl.style.display =\n",
              "          google.colab.kernel.accessAllowed ? 'block' : 'none';\n",
              "\n",
              "        async function convertToInteractive(key) {\n",
              "          const element = document.querySelector('#df-0fd762b7-9206-4725-81e7-8fddaef6c9a9');\n",
              "          const dataTable =\n",
              "            await google.colab.kernel.invokeFunction('convertToInteractive',\n",
              "                                                     [key], {});\n",
              "          if (!dataTable) return;\n",
              "\n",
              "          const docLinkHtml = 'Like what you see? Visit the ' +\n",
              "            '<a target=\"_blank\" href=https://colab.research.google.com/notebooks/data_table.ipynb>data table notebook</a>'\n",
              "            + ' to learn more about interactive tables.';\n",
              "          element.innerHTML = '';\n",
              "          dataTable['output_type'] = 'display_data';\n",
              "          await google.colab.output.renderOutput(dataTable, element);\n",
              "          const docLink = document.createElement('div');\n",
              "          docLink.innerHTML = docLinkHtml;\n",
              "          element.appendChild(docLink);\n",
              "        }\n",
              "      </script>\n",
              "    </div>\n",
              "  </div>\n",
              "  "
            ]
          },
          "metadata": {},
          "execution_count": 3
        }
      ],
      "source": [
        "#check the top 5 rows\n",
        "df.head()"
      ]
    },
    {
      "cell_type": "markdown",
      "id": "11dd35fa",
      "metadata": {
        "id": "11dd35fa"
      },
      "source": [
        "### Task 1 \n",
        "Basic Descriptive Statistics \n",
        "- 1.1 How many AirBnB listings are there in the city of Amsterdam?"
      ]
    },
    {
      "cell_type": "code",
      "execution_count": null,
      "id": "b2ccf28d",
      "metadata": {
        "scrolled": true,
        "colab": {
          "base_uri": "https://localhost:8080/"
        },
        "id": "b2ccf28d",
        "outputId": "76b0f3fd-20a3-4f17-e000-c2e14114a135"
      },
      "outputs": [
        {
          "output_type": "execute_result",
          "data": {
            "text/plain": [
              "6173"
            ]
          },
          "metadata": {},
          "execution_count": 4
        }
      ],
      "source": [
        "##Write your code here\n",
        "df['id'].count()"
      ]
    },
    {
      "cell_type": "markdown",
      "id": "4acbbcf6",
      "metadata": {
        "id": "4acbbcf6"
      },
      "source": [
        "**Answer**: There are a total of six thousand one hundred and seventy three (6,173) AirBnB listings in the city of Amsterdam as of July 2022. "
      ]
    },
    {
      "cell_type": "markdown",
      "id": "037b4a82",
      "metadata": {
        "id": "037b4a82"
      },
      "source": [
        "- 1.2 What is the average price of all the AirBnB listings in Amsterdam?"
      ]
    },
    {
      "cell_type": "code",
      "execution_count": null,
      "id": "2a99384f",
      "metadata": {
        "colab": {
          "base_uri": "https://localhost:8080/"
        },
        "id": "2a99384f",
        "outputId": "e671283d-a463-49e8-b9f7-ef078463e739"
      },
      "outputs": [
        {
          "output_type": "execute_result",
          "data": {
            "text/plain": [
              "count    6173.000000\n",
              "mean      198.019601\n",
              "std       140.546979\n",
              "min         0.000000\n",
              "25%       115.000000\n",
              "50%       160.000000\n",
              "75%       240.000000\n",
              "max      2500.000000\n",
              "Name: price, dtype: float64"
            ]
          },
          "metadata": {},
          "execution_count": 5
        }
      ],
      "source": [
        "##Write your code here\n",
        "df['price'].describe()"
      ]
    },
    {
      "cell_type": "markdown",
      "id": "8bf1e01b",
      "metadata": {
        "id": "8bf1e01b"
      },
      "source": [
        "**Answer**: The average price for all AirBnB listings in the city of Amsterdam is 198.02 units of the local currency."
      ]
    },
    {
      "cell_type": "markdown",
      "id": "d17b9988",
      "metadata": {
        "id": "d17b9988"
      },
      "source": [
        "- 1.3 - What is the average rating received by all the AirBnB listings in Amsterdam? *Hint* - Use the `review_scores_rating` column for answering this question"
      ]
    },
    {
      "cell_type": "code",
      "execution_count": null,
      "id": "0f460de5",
      "metadata": {
        "colab": {
          "base_uri": "https://localhost:8080/"
        },
        "id": "0f460de5",
        "outputId": "cf2569b1-99f2-414a-8497-4a86c6c32bc6"
      },
      "outputs": [
        {
          "output_type": "execute_result",
          "data": {
            "text/plain": [
              "4.801"
            ]
          },
          "metadata": {},
          "execution_count": 6
        }
      ],
      "source": [
        "##Write your code here\n",
        "round(df['review_scores_rating'].mean(), 3)"
      ]
    },
    {
      "cell_type": "markdown",
      "id": "c65215bc",
      "metadata": {
        "id": "c65215bc"
      },
      "source": [
        "**Answer**: The mean rating for the six thousand one hundred and seventy three lissting is 4.8 on a scale of zero to five. "
      ]
    },
    {
      "cell_type": "markdown",
      "id": "c94db5d3",
      "metadata": {
        "id": "c94db5d3"
      },
      "source": [
        "### Task 2\n",
        "\n",
        "Plot a histogram for the following variables and observe their distribution. Choose the parameters like bin width, number of bins, etc. as per your choice.\n",
        "\n",
        "- `price`\n",
        "- `number_of_reviews`\n",
        "- `review_scores_rating`"
      ]
    },
    {
      "cell_type": "code",
      "execution_count": null,
      "id": "7abd62fa",
      "metadata": {
        "scrolled": true,
        "colab": {
          "base_uri": "https://localhost:8080/",
          "height": 279
        },
        "id": "7abd62fa",
        "outputId": "55871de5-7282-4195-ef81-cca3c829365b"
      },
      "outputs": [
        {
          "output_type": "display_data",
          "data": {
            "text/plain": [
              "<Figure size 432x288 with 1 Axes>"
            ],
            "image/png": "[encoded data removed]"
          },
          "metadata": {
            "needs_background": "light"
          }
        }
      ],
      "source": [
        "##Write your code here for plotting the distribution of price\n",
        "\n",
        "bin_start = 0\n",
        "bin_end = 2500\n",
        "bin_width = 25\n",
        "\n",
        "ax = sns.histplot(df['price'], color=\"blue\", bins=range(bin_start, bin_end, bin_width))\n",
        "\n"
      ]
    },
    {
      "cell_type": "markdown",
      "id": "95de8bae",
      "metadata": {
        "id": "95de8bae"
      },
      "source": [
        "**Observation**: The distribution of price is highly right skewed. The data does include observations that have zero price. "
      ]
    },
    {
      "cell_type": "code",
      "execution_count": null,
      "id": "53f9f99c",
      "metadata": {
        "scrolled": true,
        "colab": {
          "base_uri": "https://localhost:8080/",
          "height": 280
        },
        "id": "53f9f99c",
        "outputId": "3e6548a5-174a-4eeb-fa62-5e8d3bc7ff97"
      },
      "outputs": [
        {
          "output_type": "display_data",
          "data": {
            "text/plain": [
              "<Figure size 432x288 with 1 Axes>"
            ],
            "image/png": "[encoded data removed]"
          },
          "metadata": {
            "needs_background": "light"
          }
        }
      ],
      "source": [
        "##Write your code here for plotting the distribution of reviews\n",
        "\n",
        "bin_start = 0\n",
        "bin_end = 800\n",
        "bin_width = 100\n",
        "\n",
        "ax = sns.histplot(df['number_of_reviews'], color=\"red\", bins= range(bin_start, bin_end, bin_width))\n"
      ]
    },
    {
      "cell_type": "markdown",
      "id": "53043d09",
      "metadata": {
        "id": "53043d09"
      },
      "source": [
        "**Observation**: The distribution of the number of reviews is highly right skewed. The majority of the number of reviews for each listing is between zero and one hundred. "
      ]
    },
    {
      "cell_type": "code",
      "execution_count": null,
      "id": "f1a09e17",
      "metadata": {
        "scrolled": true,
        "colab": {
          "base_uri": "https://localhost:8080/",
          "height": 300
        },
        "id": "f1a09e17",
        "outputId": "792145c8-2e7a-453c-92f9-0bf3bc873647"
      },
      "outputs": [
        {
          "output_type": "execute_result",
          "data": {
            "text/plain": [
              "Text(0.5, 0, 'Reviews Scale:0-5')"
            ]
          },
          "metadata": {},
          "execution_count": 28
        },
        {
          "output_type": "display_data",
          "data": {
            "text/plain": [
              "<Figure size 432x288 with 1 Axes>"
            ],
            "image/png": "[encoded data removed]"
          },
          "metadata": {
            "needs_background": "light"
          }
        }
      ],
      "source": [
        "##Write your code here for plotting the distribution of ratings\n",
        "bin_start = 0\n",
        "bin_end = 5\n",
        "bin_width = 1\n",
        "\n",
        "ax = sns.histplot(df['review_scores_rating'], bins= range(bin_start, bin_end, bin_width), color = 'black')\n",
        "plt.xlabel(\"Reviews Scale:0-5\")"
      ]
    },
    {
      "cell_type": "markdown",
      "id": "9c8adae5",
      "metadata": {
        "id": "9c8adae5"
      },
      "source": [
        "**Observation**: The distribution of the review scores rating is highly right skewed. The majority of the review scores are between three and four. "
      ]
    },
    {
      "cell_type": "markdown",
      "id": "5bbd5838",
      "metadata": {
        "id": "5bbd5838"
      },
      "source": [
        "### Task 3\n",
        "\n",
        "Plot a visualization to show the number of listings for each `room_type`\n",
        "\n",
        "Which `room_type` has the highest number of listings?"
      ]
    },
    {
      "cell_type": "code",
      "execution_count": null,
      "id": "1ddc8b6a",
      "metadata": {
        "scrolled": true,
        "colab": {
          "base_uri": "https://localhost:8080/",
          "height": 265
        },
        "id": "1ddc8b6a",
        "outputId": "501cf43a-9412-44ef-dbc3-9b033ba9e055"
      },
      "outputs": [
        {
          "output_type": "display_data",
          "data": {
            "text/plain": [
              "<Figure size 432x288 with 1 Axes>"
            ],
            "image/png": "[encoded data removed]"
          },
          "metadata": {
            "needs_background": "light"
          }
        }
      ],
      "source": [
        "ax = df['room_type'].value_counts().plot(kind='barh')\n",
        "\n"
      ]
    },
    {
      "cell_type": "markdown",
      "id": "f392737e",
      "metadata": {
        "id": "f392737e"
      },
      "source": [
        "**Observation** - The two largest categories of room type are private rooms and listings that offer an entire home or apartment. "
      ]
    },
    {
      "cell_type": "markdown",
      "id": "86849ec7",
      "metadata": {
        "id": "86849ec7"
      },
      "source": [
        "### Task 4\n",
        "\n",
        "You want to observe the relationship between the reviews(given by `number_of_reviews`) and the ratings received (`review_scores_rating`) by different AirBnB listings.\n",
        "\n",
        "For this, plot both a scatterplot and a jointplot. What can you say about the relationship between ratings and reviews?"
      ]
    },
    {
      "cell_type": "code",
      "execution_count": null,
      "id": "a2413ff1",
      "metadata": {
        "colab": {
          "base_uri": "https://localhost:8080/",
          "height": 298
        },
        "id": "a2413ff1",
        "outputId": "5bcd0936-ad96-4ae1-fef9-79842ed289e5"
      },
      "outputs": [
        {
          "output_type": "execute_result",
          "data": {
            "text/plain": [
              "<matplotlib.axes._subplots.AxesSubplot at 0x7f06eba67bd0>"
            ]
          },
          "metadata": {},
          "execution_count": 11
        },
        {
          "output_type": "display_data",
          "data": {
            "text/plain": [
              "<Figure size 432x288 with 1 Axes>"
            ],
            "image/png": "[encoded data removed]"
          },
          "metadata": {
            "needs_background": "light"
          }
        }
      ],
      "source": [
        "##Write your code here for scatterplot\n",
        "sns.scatterplot(data=df, y='number_of_reviews', x='review_scores_rating')"
      ]
    },
    {
      "cell_type": "code",
      "execution_count": null,
      "id": "f41dc6bd",
      "metadata": {
        "scrolled": true,
        "colab": {
          "base_uri": "https://localhost:8080/",
          "height": 458
        },
        "id": "f41dc6bd",
        "outputId": "16d8b0f0-4ee4-4bb3-b4e9-de6b49af3bbf"
      },
      "outputs": [
        {
          "output_type": "execute_result",
          "data": {
            "text/plain": [
              "Text(27.125, 0.5, 'Number of Reviews')"
            ]
          },
          "metadata": {},
          "execution_count": 37
        },
        {
          "output_type": "display_data",
          "data": {
            "text/plain": [
              "<Figure size 432x432 with 3 Axes>"
            ],
            "image/png": "[encoded data removed]"
          },
          "metadata": {
            "needs_background": "light"
          }
        }
      ],
      "source": [
        "##Write your code here for jointplot\n",
        "h = sns.jointplot(data=df, y='number_of_reviews', x='review_scores_rating', hue=\"room_type\")\n",
        "h.ax_joint.set_xlabel('Reivew Scores Rating')\n",
        "h.ax_joint.set_ylabel('Number of Reviews')"
      ]
    },
    {
      "cell_type": "markdown",
      "id": "304c1839",
      "metadata": {
        "id": "304c1839"
      },
      "source": [
        "**Observation** - The number of reviews is significantly negatively correlated with the review scores rating. However, this correlation is weak and not obvious through visual inspection. "
      ]
    },
    {
      "cell_type": "markdown",
      "id": "d7a659af",
      "metadata": {
        "id": "d7a659af"
      },
      "source": [
        "### Task 5\n",
        "\n",
        "AirBnB has been adding quite a few listings in the city of Amseterdam since they started operating in 2008. Plot a lineplot to observe how the average `review_scores_rating` has changed across the different years (use `host_since_Year` column) AirBnB has been operating in the city."
      ]
    },
    {
      "cell_type": "code",
      "execution_count": null,
      "id": "c73634ee",
      "metadata": {
        "scrolled": true,
        "colab": {
          "base_uri": "https://localhost:8080/",
          "height": 297
        },
        "id": "c73634ee",
        "outputId": "0277d659-dbac-4dfe-f7bb-a8e5e065f291"
      },
      "outputs": [
        {
          "output_type": "execute_result",
          "data": {
            "text/plain": [
              "Text(0, 0.5, 'Review Scores Ratings')"
            ]
          },
          "metadata": {},
          "execution_count": 38
        },
        {
          "output_type": "display_data",
          "data": {
            "text/plain": [
              "<Figure size 432x288 with 1 Axes>"
            ],
            "image/png": "[encoded data removed]"
          },
          "metadata": {
            "needs_background": "light"
          }
        }
      ],
      "source": [
        "### Write your code for lineplot here\n",
        "ax = sns.lineplot(data=df, y='review_scores_rating', x='host_since_Year')\n",
        "plt.xlabel(\"Year\")\n",
        "plt.ylabel(\"Review Scores Ratings\")"
      ]
    },
    {
      "cell_type": "markdown",
      "id": "34c7bb8d",
      "metadata": {
        "id": "34c7bb8d"
      },
      "source": [
        "**Observation** - The review scores rating increased from 2008 to 2010.They remained relatively constant for approximately six years. In 2016, the ratings began to decrease until 2020. In the year 2020 to 2021, the review scores rating increased and the declined again from 2021 to 2022."
      ]
    },
    {
      "cell_type": "markdown",
      "id": "d863ebe8",
      "metadata": {
        "id": "d863ebe8"
      },
      "source": [
        "### Task 6\n",
        "\n",
        "You wish to identify the relationship between the various ratings each of the listing has received from the customers.\n",
        "These ratings have been summarized below:"
      ]
    },
    {
      "cell_type": "code",
      "execution_count": null,
      "id": "bf1d48b5",
      "metadata": {
        "id": "bf1d48b5"
      },
      "outputs": [],
      "source": [
        "review_columns = ['review_scores_rating',\n",
        " 'review_scores_accuracy',\n",
        " 'review_scores_cleanliness',\n",
        " 'review_scores_checkin',\n",
        " 'review_scores_communication',\n",
        " 'review_scores_location',\n",
        " 'review_scores_value']\n",
        "\n"
      ]
    },
    {
      "cell_type": "markdown",
      "id": "66038e5f",
      "metadata": {
        "id": "66038e5f"
      },
      "source": [
        "Plot a heatmap of the correlation matrix of the above ratings variables and document your observations. You can use this link to understand these variables further - https://www.airbnb.co.in/help/article/1257/star-ratings"
      ]
    },
    {
      "cell_type": "code",
      "execution_count": null,
      "id": "2969d940",
      "metadata": {
        "colab": {
          "base_uri": "https://localhost:8080/",
          "height": 429
        },
        "id": "2969d940",
        "outputId": "e150a624-99e5-4b42-a191-fcc77bd05d86"
      },
      "outputs": [
        {
          "output_type": "execute_result",
          "data": {
            "text/plain": [
              "<matplotlib.axes._subplots.AxesSubplot at 0x7f06e8f82290>"
            ]
          },
          "metadata": {},
          "execution_count": 15
        },
        {
          "output_type": "display_data",
          "data": {
            "text/plain": [
              "<Figure size 432x288 with 2 Axes>"
            ],
            "image/png": "[encoded data removed]"
          },
          "metadata": {
            "needs_background": "light"
          }
        }
      ],
      "source": [
        "sns.heatmap(df[review_columns].corr(), cmap=\"YlGnBu\", annot=True)\n"
      ]
    },
    {
      "cell_type": "markdown",
      "id": "dfc62db7",
      "metadata": {
        "id": "dfc62db7"
      },
      "source": [
        "**Observation** - There is a moderate to strong positive correlation between all of the variables with one another with the exception of review scores location. The correlation between review scores location and each of the other variables is positive, weak and nominally moderate. There is nominally moderate posititve correlation between review scores cleaninginless and review scores checkin and review scores cleaningliness and review scores communication."
      ]
    },
    {
      "cell_type": "markdown",
      "id": "c5f9eb74",
      "metadata": {
        "id": "c5f9eb74"
      },
      "source": [
        "### Task 7 "
      ]
    },
    {
      "cell_type": "markdown",
      "id": "1c928252",
      "metadata": {
        "id": "1c928252"
      },
      "source": [
        "Analyze the listings' prices across the following neighborhoods using a categorical boxplot\n",
        "- 'Westerpark', 'Oud-Noord', 'Noord-West','Zuid'"
      ]
    },
    {
      "cell_type": "code",
      "execution_count": null,
      "id": "9fa8f608",
      "metadata": {
        "id": "9fa8f608"
      },
      "outputs": [],
      "source": [
        "nc = ['Westerpark', 'Oud-Noord', 'Noord-West','Zuid']"
      ]
    },
    {
      "cell_type": "code",
      "execution_count": null,
      "id": "01190c19",
      "metadata": {
        "colab": {
          "base_uri": "https://localhost:8080/"
        },
        "id": "01190c19",
        "outputId": "7f09a040-8b46-4432-a002-fe58d48804da"
      },
      "outputs": [
        {
          "output_type": "execute_result",
          "data": {
            "text/plain": [
              "(1216, 22)"
            ]
          },
          "metadata": {},
          "execution_count": 17
        }
      ],
      "source": [
        "### Write your code for subsetting the data for only the above neighborhoods here\n",
        "df1 = df.loc[df['neighbourhood'].isin(nc)]\n",
        "df1.shape"
      ]
    },
    {
      "cell_type": "code",
      "execution_count": null,
      "id": "41e4494d",
      "metadata": {
        "colab": {
          "base_uri": "https://localhost:8080/",
          "height": 315
        },
        "id": "41e4494d",
        "outputId": "a40003ef-fa09-4d28-a8f4-31eb2e885cb6"
      },
      "outputs": [
        {
          "output_type": "execute_result",
          "data": {
            "text/plain": [
              "<Figure size 864x216 with 0 Axes>"
            ]
          },
          "metadata": {},
          "execution_count": 18
        },
        {
          "output_type": "display_data",
          "data": {
            "text/plain": [
              "<Figure size 432x288 with 1 Axes>"
            ],
            "image/png": "[encoded data removed]"
          },
          "metadata": {
            "needs_background": "light"
          }
        },
        {
          "output_type": "display_data",
          "data": {
            "text/plain": [
              "<Figure size 864x216 with 0 Axes>"
            ]
          },
          "metadata": {}
        }
      ],
      "source": [
        "### Write your code for plotting the categorical boxplot here\n",
        "ax = sns.boxplot(x='neighbourhood', y = 'price', data=df1)\n",
        "plt.figure(figsize=(12,3))"
      ]
    },
    {
      "cell_type": "markdown",
      "id": "07548c45",
      "metadata": {
        "id": "07548c45"
      },
      "source": [
        "**Observation** - The median prices for all four neighborhoods are well below 500 units of the local currency. Howewver, as demonstrated in the boxplot, there are a significant number outliers for each neighborhood. "
      ]
    }
  ],
  "metadata": {
    "kernelspec": {
      "display_name": "Python 3 (ipykernel)",
      "language": "python",
      "name": "python3"
    },
    "language_info": {
      "codemirror_mode": {
        "name": "ipython",
        "version": 3
      },
      "file_extension": ".py",
      "mimetype": "text/x-python",
      "name": "python",
      "nbconvert_exporter": "python",
      "pygments_lexer": "ipython3",
      "version": "3.9.7"
    },
    "colab": {
      "provenance": [],
      "collapsed_sections": []
    }
  },
  "nbformat": 4,
  "nbformat_minor": 5
}